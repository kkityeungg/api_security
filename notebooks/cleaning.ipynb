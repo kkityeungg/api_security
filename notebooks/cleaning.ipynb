{
 "cells": [
  {
   "cell_type": "code",
   "execution_count": 1,
   "metadata": {},
   "outputs": [],
   "source": [
    "import polars as pl\n",
    "import plotly.express as px"
   ]
  },
  {
   "cell_type": "markdown",
   "metadata": {},
   "source": [
    "### Loading data"
   ]
  },
  {
   "cell_type": "code",
   "execution_count": 2,
   "metadata": {},
   "outputs": [
    {
     "ename": "FileNotFoundError",
     "evalue": "The system cannot find the path specified. (os error 3): data\\supervised_dataset.csv",
     "output_type": "error",
     "traceback": [
      "\u001b[1;31m---------------------------------------------------------------------------\u001b[0m",
      "\u001b[1;31mFileNotFoundError\u001b[0m                         Traceback (most recent call last)",
      "Input \u001b[1;32mIn [2]\u001b[0m, in \u001b[0;36m<cell line: 1>\u001b[1;34m()\u001b[0m\n\u001b[1;32m----> 1\u001b[0m data \u001b[38;5;241m=\u001b[39m \u001b[43mpl\u001b[49m\u001b[38;5;241;43m.\u001b[39;49m\u001b[43mread_csv\u001b[49m\u001b[43m(\u001b[49m\u001b[38;5;124;43m\"\u001b[39;49m\u001b[38;5;124;43mdata\u001b[39;49m\u001b[38;5;124;43m\\\u001b[39;49m\u001b[38;5;124;43msupervised_dataset.csv\u001b[39;49m\u001b[38;5;124;43m\"\u001b[39;49m\u001b[43m)\u001b[49m\n\u001b[0;32m      2\u001b[0m \u001b[38;5;28mprint\u001b[39m(data\u001b[38;5;241m.\u001b[39mshape)\n\u001b[0;32m      3\u001b[0m data\u001b[38;5;241m.\u001b[39mhead()\n",
      "File \u001b[1;32mc:\\Python310\\lib\\site-packages\\polars\\_utils\\deprecation.py:134\u001b[0m, in \u001b[0;36mdeprecate_renamed_parameter.<locals>.decorate.<locals>.wrapper\u001b[1;34m(*args, **kwargs)\u001b[0m\n\u001b[0;32m    129\u001b[0m \u001b[38;5;129m@wraps\u001b[39m(function)\n\u001b[0;32m    130\u001b[0m \u001b[38;5;28;01mdef\u001b[39;00m \u001b[38;5;21mwrapper\u001b[39m(\u001b[38;5;241m*\u001b[39margs: P\u001b[38;5;241m.\u001b[39margs, \u001b[38;5;241m*\u001b[39m\u001b[38;5;241m*\u001b[39mkwargs: P\u001b[38;5;241m.\u001b[39mkwargs) \u001b[38;5;241m-\u001b[39m\u001b[38;5;241m>\u001b[39m T:\n\u001b[0;32m    131\u001b[0m     _rename_keyword_argument(\n\u001b[0;32m    132\u001b[0m         old_name, new_name, kwargs, function\u001b[38;5;241m.\u001b[39m\u001b[38;5;18m__name__\u001b[39m, version\n\u001b[0;32m    133\u001b[0m     )\n\u001b[1;32m--> 134\u001b[0m     \u001b[38;5;28;01mreturn\u001b[39;00m function(\u001b[38;5;241m*\u001b[39margs, \u001b[38;5;241m*\u001b[39m\u001b[38;5;241m*\u001b[39mkwargs)\n",
      "File \u001b[1;32mc:\\Python310\\lib\\site-packages\\polars\\_utils\\deprecation.py:134\u001b[0m, in \u001b[0;36mdeprecate_renamed_parameter.<locals>.decorate.<locals>.wrapper\u001b[1;34m(*args, **kwargs)\u001b[0m\n\u001b[0;32m    129\u001b[0m \u001b[38;5;129m@wraps\u001b[39m(function)\n\u001b[0;32m    130\u001b[0m \u001b[38;5;28;01mdef\u001b[39;00m \u001b[38;5;21mwrapper\u001b[39m(\u001b[38;5;241m*\u001b[39margs: P\u001b[38;5;241m.\u001b[39margs, \u001b[38;5;241m*\u001b[39m\u001b[38;5;241m*\u001b[39mkwargs: P\u001b[38;5;241m.\u001b[39mkwargs) \u001b[38;5;241m-\u001b[39m\u001b[38;5;241m>\u001b[39m T:\n\u001b[0;32m    131\u001b[0m     _rename_keyword_argument(\n\u001b[0;32m    132\u001b[0m         old_name, new_name, kwargs, function\u001b[38;5;241m.\u001b[39m\u001b[38;5;18m__name__\u001b[39m, version\n\u001b[0;32m    133\u001b[0m     )\n\u001b[1;32m--> 134\u001b[0m     \u001b[38;5;28;01mreturn\u001b[39;00m function(\u001b[38;5;241m*\u001b[39margs, \u001b[38;5;241m*\u001b[39m\u001b[38;5;241m*\u001b[39mkwargs)\n",
      "File \u001b[1;32mc:\\Python310\\lib\\site-packages\\polars\\_utils\\deprecation.py:134\u001b[0m, in \u001b[0;36mdeprecate_renamed_parameter.<locals>.decorate.<locals>.wrapper\u001b[1;34m(*args, **kwargs)\u001b[0m\n\u001b[0;32m    129\u001b[0m \u001b[38;5;129m@wraps\u001b[39m(function)\n\u001b[0;32m    130\u001b[0m \u001b[38;5;28;01mdef\u001b[39;00m \u001b[38;5;21mwrapper\u001b[39m(\u001b[38;5;241m*\u001b[39margs: P\u001b[38;5;241m.\u001b[39margs, \u001b[38;5;241m*\u001b[39m\u001b[38;5;241m*\u001b[39mkwargs: P\u001b[38;5;241m.\u001b[39mkwargs) \u001b[38;5;241m-\u001b[39m\u001b[38;5;241m>\u001b[39m T:\n\u001b[0;32m    131\u001b[0m     _rename_keyword_argument(\n\u001b[0;32m    132\u001b[0m         old_name, new_name, kwargs, function\u001b[38;5;241m.\u001b[39m\u001b[38;5;18m__name__\u001b[39m, version\n\u001b[0;32m    133\u001b[0m     )\n\u001b[1;32m--> 134\u001b[0m     \u001b[38;5;28;01mreturn\u001b[39;00m function(\u001b[38;5;241m*\u001b[39margs, \u001b[38;5;241m*\u001b[39m\u001b[38;5;241m*\u001b[39mkwargs)\n",
      "File \u001b[1;32mc:\\Python310\\lib\\site-packages\\polars\\io\\csv\\functions.py:414\u001b[0m, in \u001b[0;36mread_csv\u001b[1;34m(source, has_header, columns, new_columns, separator, comment_prefix, quote_char, skip_rows, dtypes, schema, null_values, missing_utf8_is_empty_string, ignore_errors, try_parse_dates, n_threads, infer_schema_length, batch_size, n_rows, encoding, low_memory, rechunk, use_pyarrow, storage_options, skip_rows_after_header, row_index_name, row_index_offset, sample_size, eol_char, raise_if_empty, truncate_ragged_lines)\u001b[0m\n\u001b[0;32m    402\u001b[0m         dtypes \u001b[38;5;241m=\u001b[39m {\n\u001b[0;32m    403\u001b[0m             new_to_current\u001b[38;5;241m.\u001b[39mget(column_name, column_name): column_dtype\n\u001b[0;32m    404\u001b[0m             \u001b[38;5;28;01mfor\u001b[39;00m column_name, column_dtype \u001b[38;5;129;01min\u001b[39;00m dtypes\u001b[38;5;241m.\u001b[39mitems()\n\u001b[0;32m    405\u001b[0m         }\n\u001b[0;32m    407\u001b[0m \u001b[38;5;28;01mwith\u001b[39;00m prepare_file_arg(\n\u001b[0;32m    408\u001b[0m     source,\n\u001b[0;32m    409\u001b[0m     encoding\u001b[38;5;241m=\u001b[39mencoding,\n\u001b[1;32m   (...)\u001b[0m\n\u001b[0;32m    412\u001b[0m     storage_options\u001b[38;5;241m=\u001b[39mstorage_options,\n\u001b[0;32m    413\u001b[0m ) \u001b[38;5;28;01mas\u001b[39;00m data:\n\u001b[1;32m--> 414\u001b[0m     df \u001b[38;5;241m=\u001b[39m \u001b[43m_read_csv_impl\u001b[49m\u001b[43m(\u001b[49m\n\u001b[0;32m    415\u001b[0m \u001b[43m        \u001b[49m\u001b[43mdata\u001b[49m\u001b[43m,\u001b[49m\n\u001b[0;32m    416\u001b[0m \u001b[43m        \u001b[49m\u001b[43mhas_header\u001b[49m\u001b[38;5;241;43m=\u001b[39;49m\u001b[43mhas_header\u001b[49m\u001b[43m,\u001b[49m\n\u001b[0;32m    417\u001b[0m \u001b[43m        \u001b[49m\u001b[43mcolumns\u001b[49m\u001b[38;5;241;43m=\u001b[39;49m\u001b[43mcolumns\u001b[49m\u001b[43m \u001b[49m\u001b[38;5;28;43;01mif\u001b[39;49;00m\u001b[43m \u001b[49m\u001b[43mcolumns\u001b[49m\u001b[43m \u001b[49m\u001b[38;5;28;43;01melse\u001b[39;49;00m\u001b[43m \u001b[49m\u001b[43mprojection\u001b[49m\u001b[43m,\u001b[49m\n\u001b[0;32m    418\u001b[0m \u001b[43m        \u001b[49m\u001b[43mseparator\u001b[49m\u001b[38;5;241;43m=\u001b[39;49m\u001b[43mseparator\u001b[49m\u001b[43m,\u001b[49m\n\u001b[0;32m    419\u001b[0m \u001b[43m        \u001b[49m\u001b[43mcomment_prefix\u001b[49m\u001b[38;5;241;43m=\u001b[39;49m\u001b[43mcomment_prefix\u001b[49m\u001b[43m,\u001b[49m\n\u001b[0;32m    420\u001b[0m \u001b[43m        \u001b[49m\u001b[43mquote_char\u001b[49m\u001b[38;5;241;43m=\u001b[39;49m\u001b[43mquote_char\u001b[49m\u001b[43m,\u001b[49m\n\u001b[0;32m    421\u001b[0m \u001b[43m        \u001b[49m\u001b[43mskip_rows\u001b[49m\u001b[38;5;241;43m=\u001b[39;49m\u001b[43mskip_rows\u001b[49m\u001b[43m,\u001b[49m\n\u001b[0;32m    422\u001b[0m \u001b[43m        \u001b[49m\u001b[43mdtypes\u001b[49m\u001b[38;5;241;43m=\u001b[39;49m\u001b[43mdtypes\u001b[49m\u001b[43m,\u001b[49m\n\u001b[0;32m    423\u001b[0m \u001b[43m        \u001b[49m\u001b[43mschema\u001b[49m\u001b[38;5;241;43m=\u001b[39;49m\u001b[43mschema\u001b[49m\u001b[43m,\u001b[49m\n\u001b[0;32m    424\u001b[0m \u001b[43m        \u001b[49m\u001b[43mnull_values\u001b[49m\u001b[38;5;241;43m=\u001b[39;49m\u001b[43mnull_values\u001b[49m\u001b[43m,\u001b[49m\n\u001b[0;32m    425\u001b[0m \u001b[43m        \u001b[49m\u001b[43mmissing_utf8_is_empty_string\u001b[49m\u001b[38;5;241;43m=\u001b[39;49m\u001b[43mmissing_utf8_is_empty_string\u001b[49m\u001b[43m,\u001b[49m\n\u001b[0;32m    426\u001b[0m \u001b[43m        \u001b[49m\u001b[43mignore_errors\u001b[49m\u001b[38;5;241;43m=\u001b[39;49m\u001b[43mignore_errors\u001b[49m\u001b[43m,\u001b[49m\n\u001b[0;32m    427\u001b[0m \u001b[43m        \u001b[49m\u001b[43mtry_parse_dates\u001b[49m\u001b[38;5;241;43m=\u001b[39;49m\u001b[43mtry_parse_dates\u001b[49m\u001b[43m,\u001b[49m\n\u001b[0;32m    428\u001b[0m \u001b[43m        \u001b[49m\u001b[43mn_threads\u001b[49m\u001b[38;5;241;43m=\u001b[39;49m\u001b[43mn_threads\u001b[49m\u001b[43m,\u001b[49m\n\u001b[0;32m    429\u001b[0m \u001b[43m        \u001b[49m\u001b[43minfer_schema_length\u001b[49m\u001b[38;5;241;43m=\u001b[39;49m\u001b[43minfer_schema_length\u001b[49m\u001b[43m,\u001b[49m\n\u001b[0;32m    430\u001b[0m \u001b[43m        \u001b[49m\u001b[43mbatch_size\u001b[49m\u001b[38;5;241;43m=\u001b[39;49m\u001b[43mbatch_size\u001b[49m\u001b[43m,\u001b[49m\n\u001b[0;32m    431\u001b[0m \u001b[43m        \u001b[49m\u001b[43mn_rows\u001b[49m\u001b[38;5;241;43m=\u001b[39;49m\u001b[43mn_rows\u001b[49m\u001b[43m,\u001b[49m\n\u001b[0;32m    432\u001b[0m \u001b[43m        \u001b[49m\u001b[43mencoding\u001b[49m\u001b[38;5;241;43m=\u001b[39;49m\u001b[43mencoding\u001b[49m\u001b[43m \u001b[49m\u001b[38;5;28;43;01mif\u001b[39;49;00m\u001b[43m \u001b[49m\u001b[43mencoding\u001b[49m\u001b[43m \u001b[49m\u001b[38;5;241;43m==\u001b[39;49m\u001b[43m \u001b[49m\u001b[38;5;124;43m\"\u001b[39;49m\u001b[38;5;124;43mutf8-lossy\u001b[39;49m\u001b[38;5;124;43m\"\u001b[39;49m\u001b[43m \u001b[49m\u001b[38;5;28;43;01melse\u001b[39;49;00m\u001b[43m \u001b[49m\u001b[38;5;124;43m\"\u001b[39;49m\u001b[38;5;124;43mutf8\u001b[39;49m\u001b[38;5;124;43m\"\u001b[39;49m\u001b[43m,\u001b[49m\n\u001b[0;32m    433\u001b[0m \u001b[43m        \u001b[49m\u001b[43mlow_memory\u001b[49m\u001b[38;5;241;43m=\u001b[39;49m\u001b[43mlow_memory\u001b[49m\u001b[43m,\u001b[49m\n\u001b[0;32m    434\u001b[0m \u001b[43m        \u001b[49m\u001b[43mrechunk\u001b[49m\u001b[38;5;241;43m=\u001b[39;49m\u001b[43mrechunk\u001b[49m\u001b[43m,\u001b[49m\n\u001b[0;32m    435\u001b[0m \u001b[43m        \u001b[49m\u001b[43mskip_rows_after_header\u001b[49m\u001b[38;5;241;43m=\u001b[39;49m\u001b[43mskip_rows_after_header\u001b[49m\u001b[43m,\u001b[49m\n\u001b[0;32m    436\u001b[0m \u001b[43m        \u001b[49m\u001b[43mrow_index_name\u001b[49m\u001b[38;5;241;43m=\u001b[39;49m\u001b[43mrow_index_name\u001b[49m\u001b[43m,\u001b[49m\n\u001b[0;32m    437\u001b[0m \u001b[43m        \u001b[49m\u001b[43mrow_index_offset\u001b[49m\u001b[38;5;241;43m=\u001b[39;49m\u001b[43mrow_index_offset\u001b[49m\u001b[43m,\u001b[49m\n\u001b[0;32m    438\u001b[0m \u001b[43m        \u001b[49m\u001b[43msample_size\u001b[49m\u001b[38;5;241;43m=\u001b[39;49m\u001b[43msample_size\u001b[49m\u001b[43m,\u001b[49m\n\u001b[0;32m    439\u001b[0m \u001b[43m        \u001b[49m\u001b[43meol_char\u001b[49m\u001b[38;5;241;43m=\u001b[39;49m\u001b[43meol_char\u001b[49m\u001b[43m,\u001b[49m\n\u001b[0;32m    440\u001b[0m \u001b[43m        \u001b[49m\u001b[43mraise_if_empty\u001b[49m\u001b[38;5;241;43m=\u001b[39;49m\u001b[43mraise_if_empty\u001b[49m\u001b[43m,\u001b[49m\n\u001b[0;32m    441\u001b[0m \u001b[43m        \u001b[49m\u001b[43mtruncate_ragged_lines\u001b[49m\u001b[38;5;241;43m=\u001b[39;49m\u001b[43mtruncate_ragged_lines\u001b[49m\u001b[43m,\u001b[49m\n\u001b[0;32m    442\u001b[0m \u001b[43m    \u001b[49m\u001b[43m)\u001b[49m\n\u001b[0;32m    444\u001b[0m \u001b[38;5;28;01mif\u001b[39;00m new_columns:\n\u001b[0;32m    445\u001b[0m     \u001b[38;5;28;01mreturn\u001b[39;00m _update_columns(df, new_columns)\n",
      "File \u001b[1;32mc:\\Python310\\lib\\site-packages\\polars\\io\\csv\\functions.py:554\u001b[0m, in \u001b[0;36m_read_csv_impl\u001b[1;34m(source, has_header, columns, separator, comment_prefix, quote_char, skip_rows, dtypes, schema, null_values, missing_utf8_is_empty_string, ignore_errors, try_parse_dates, n_threads, infer_schema_length, batch_size, n_rows, encoding, low_memory, rechunk, skip_rows_after_header, row_index_name, row_index_offset, sample_size, eol_char, raise_if_empty, truncate_ragged_lines)\u001b[0m\n\u001b[0;32m    550\u001b[0m         \u001b[38;5;28;01mraise\u001b[39;00m \u001b[38;5;167;01mValueError\u001b[39;00m(msg)\n\u001b[0;32m    552\u001b[0m projection, columns \u001b[38;5;241m=\u001b[39m parse_columns_arg(columns)\n\u001b[1;32m--> 554\u001b[0m pydf \u001b[38;5;241m=\u001b[39m \u001b[43mPyDataFrame\u001b[49m\u001b[38;5;241;43m.\u001b[39;49m\u001b[43mread_csv\u001b[49m\u001b[43m(\u001b[49m\n\u001b[0;32m    555\u001b[0m \u001b[43m    \u001b[49m\u001b[43msource\u001b[49m\u001b[43m,\u001b[49m\n\u001b[0;32m    556\u001b[0m \u001b[43m    \u001b[49m\u001b[43minfer_schema_length\u001b[49m\u001b[43m,\u001b[49m\n\u001b[0;32m    557\u001b[0m \u001b[43m    \u001b[49m\u001b[43mbatch_size\u001b[49m\u001b[43m,\u001b[49m\n\u001b[0;32m    558\u001b[0m \u001b[43m    \u001b[49m\u001b[43mhas_header\u001b[49m\u001b[43m,\u001b[49m\n\u001b[0;32m    559\u001b[0m \u001b[43m    \u001b[49m\u001b[43mignore_errors\u001b[49m\u001b[43m,\u001b[49m\n\u001b[0;32m    560\u001b[0m \u001b[43m    \u001b[49m\u001b[43mn_rows\u001b[49m\u001b[43m,\u001b[49m\n\u001b[0;32m    561\u001b[0m \u001b[43m    \u001b[49m\u001b[43mskip_rows\u001b[49m\u001b[43m,\u001b[49m\n\u001b[0;32m    562\u001b[0m \u001b[43m    \u001b[49m\u001b[43mprojection\u001b[49m\u001b[43m,\u001b[49m\n\u001b[0;32m    563\u001b[0m \u001b[43m    \u001b[49m\u001b[43mseparator\u001b[49m\u001b[43m,\u001b[49m\n\u001b[0;32m    564\u001b[0m \u001b[43m    \u001b[49m\u001b[43mrechunk\u001b[49m\u001b[43m,\u001b[49m\n\u001b[0;32m    565\u001b[0m \u001b[43m    \u001b[49m\u001b[43mcolumns\u001b[49m\u001b[43m,\u001b[49m\n\u001b[0;32m    566\u001b[0m \u001b[43m    \u001b[49m\u001b[43mencoding\u001b[49m\u001b[43m,\u001b[49m\n\u001b[0;32m    567\u001b[0m \u001b[43m    \u001b[49m\u001b[43mn_threads\u001b[49m\u001b[43m,\u001b[49m\n\u001b[0;32m    568\u001b[0m \u001b[43m    \u001b[49m\u001b[43mpath\u001b[49m\u001b[43m,\u001b[49m\n\u001b[0;32m    569\u001b[0m \u001b[43m    \u001b[49m\u001b[43mdtype_list\u001b[49m\u001b[43m,\u001b[49m\n\u001b[0;32m    570\u001b[0m \u001b[43m    \u001b[49m\u001b[43mdtype_slice\u001b[49m\u001b[43m,\u001b[49m\n\u001b[0;32m    571\u001b[0m \u001b[43m    \u001b[49m\u001b[43mlow_memory\u001b[49m\u001b[43m,\u001b[49m\n\u001b[0;32m    572\u001b[0m \u001b[43m    \u001b[49m\u001b[43mcomment_prefix\u001b[49m\u001b[43m,\u001b[49m\n\u001b[0;32m    573\u001b[0m \u001b[43m    \u001b[49m\u001b[43mquote_char\u001b[49m\u001b[43m,\u001b[49m\n\u001b[0;32m    574\u001b[0m \u001b[43m    \u001b[49m\u001b[43mprocessed_null_values\u001b[49m\u001b[43m,\u001b[49m\n\u001b[0;32m    575\u001b[0m \u001b[43m    \u001b[49m\u001b[43mmissing_utf8_is_empty_string\u001b[49m\u001b[43m,\u001b[49m\n\u001b[0;32m    576\u001b[0m \u001b[43m    \u001b[49m\u001b[43mtry_parse_dates\u001b[49m\u001b[43m,\u001b[49m\n\u001b[0;32m    577\u001b[0m \u001b[43m    \u001b[49m\u001b[43mskip_rows_after_header\u001b[49m\u001b[43m,\u001b[49m\n\u001b[0;32m    578\u001b[0m \u001b[43m    \u001b[49m\u001b[43mparse_row_index_args\u001b[49m\u001b[43m(\u001b[49m\u001b[43mrow_index_name\u001b[49m\u001b[43m,\u001b[49m\u001b[43m \u001b[49m\u001b[43mrow_index_offset\u001b[49m\u001b[43m)\u001b[49m\u001b[43m,\u001b[49m\n\u001b[0;32m    579\u001b[0m \u001b[43m    \u001b[49m\u001b[43msample_size\u001b[49m\u001b[38;5;241;43m=\u001b[39;49m\u001b[43msample_size\u001b[49m\u001b[43m,\u001b[49m\n\u001b[0;32m    580\u001b[0m \u001b[43m    \u001b[49m\u001b[43meol_char\u001b[49m\u001b[38;5;241;43m=\u001b[39;49m\u001b[43meol_char\u001b[49m\u001b[43m,\u001b[49m\n\u001b[0;32m    581\u001b[0m \u001b[43m    \u001b[49m\u001b[43mraise_if_empty\u001b[49m\u001b[38;5;241;43m=\u001b[39;49m\u001b[43mraise_if_empty\u001b[49m\u001b[43m,\u001b[49m\n\u001b[0;32m    582\u001b[0m \u001b[43m    \u001b[49m\u001b[43mtruncate_ragged_lines\u001b[49m\u001b[38;5;241;43m=\u001b[39;49m\u001b[43mtruncate_ragged_lines\u001b[49m\u001b[43m,\u001b[49m\n\u001b[0;32m    583\u001b[0m \u001b[43m    \u001b[49m\u001b[43mschema\u001b[49m\u001b[38;5;241;43m=\u001b[39;49m\u001b[43mschema\u001b[49m\u001b[43m,\u001b[49m\n\u001b[0;32m    584\u001b[0m \u001b[43m\u001b[49m\u001b[43m)\u001b[49m\n\u001b[0;32m    585\u001b[0m \u001b[38;5;28;01mreturn\u001b[39;00m wrap_df(pydf)\n",
      "\u001b[1;31mFileNotFoundError\u001b[0m: The system cannot find the path specified. (os error 3): data\\supervised_dataset.csv"
     ]
    }
   ],
   "source": [
    "data = pl.read_csv(\"data\\supervised_dataset.csv\")\n",
    "print(data.shape)\n",
    "data.head()"
   ]
  },
  {
   "cell_type": "markdown",
   "metadata": {},
   "source": [
    "### Data Profiling"
   ]
  },
  {
   "cell_type": "code",
   "execution_count": null,
   "metadata": {},
   "outputs": [
    {
     "data": {
      "text/html": [
       "<div><style>\n",
       ".dataframe > thead > tr,\n",
       ".dataframe > tbody > tr {\n",
       "  text-align: right;\n",
       "  white-space: pre-wrap;\n",
       "}\n",
       "</style>\n",
       "<small>shape: (9, 13)</small><table border=\"1\" class=\"dataframe\"><thead><tr><th>statistic</th><th></th><th>_id</th><th>inter_api_access_duration(sec)</th><th>api_access_uniqueness</th><th>sequence_length(count)</th><th>vsession_duration(min)</th><th>ip_type</th><th>num_sessions</th><th>num_users</th><th>num_unique_apis</th><th>source</th><th>classification</th></tr><tr><td>str</td><td>f64</td><td>str</td><td>f64</td><td>f64</td><td>f64</td><td>f64</td><td>str</td><td>f64</td><td>f64</td><td>f64</td><td>str</td><td>str</td></tr></thead><tbody><tr><td>&quot;count&quot;</td><td>1699.0</td><td>&quot;1699&quot;</td><td>1695.0</td><td>1695.0</td><td>1699.0</td><td>1699.0</td><td>&quot;1699&quot;</td><td>1699.0</td><td>1699.0</td><td>1699.0</td><td>&quot;1699&quot;</td><td>&quot;1699&quot;</td></tr><tr><td>&quot;null_count&quot;</td><td>0.0</td><td>&quot;0&quot;</td><td>4.0</td><td>4.0</td><td>0.0</td><td>0.0</td><td>&quot;0&quot;</td><td>0.0</td><td>0.0</td><td>0.0</td><td>&quot;0&quot;</td><td>&quot;0&quot;</td></tr><tr><td>&quot;mean&quot;</td><td>849.0</td><td>null</td><td>1.501123</td><td>0.173226</td><td>61.648982</td><td>6028.340789</td><td>null</td><td>564.726898</td><td>406.263685</td><td>67.246616</td><td>null</td><td>null</td></tr><tr><td>&quot;std&quot;</td><td>490.60337</td><td>null</td><td>21.697558</td><td>0.283641</td><td>205.803273</td><td>46650.419622</td><td>null</td><td>1179.9312</td><td>960.71858</td><td>82.189214</td><td>null</td><td>null</td></tr><tr><td>&quot;min&quot;</td><td>0.0</td><td>&quot;00041830-3168-…</td><td>0.000003</td><td>0.0012</td><td>0.0</td><td>1.0</td><td>&quot;datacenter&quot;</td><td>2.0</td><td>1.0</td><td>0.0</td><td>&quot;E&quot;</td><td>&quot;normal&quot;</td></tr><tr><td>&quot;25%&quot;</td><td>425.0</td><td>null</td><td>0.000708</td><td>0.009205</td><td>10.0</td><td>63.0</td><td>null</td><td>5.0</td><td>1.0</td><td>14.0</td><td>null</td><td>null</td></tr><tr><td>&quot;50%&quot;</td><td>849.0</td><td>null</td><td>0.002574</td><td>0.018717</td><td>17.095238</td><td>195.0</td><td>null</td><td>164.0</td><td>141.0</td><td>37.0</td><td>null</td><td>null</td></tr><tr><td>&quot;75%&quot;</td><td>1274.0</td><td>null</td><td>0.024822</td><td>0.230769</td><td>41.446352</td><td>3714.0</td><td>null</td><td>447.0</td><td>309.0</td><td>90.0</td><td>null</td><td>null</td></tr><tr><td>&quot;max&quot;</td><td>1698.0</td><td>&quot;ffbf4937-68e6-…</td><td>852.92925</td><td>1.0</td><td>3303.0</td><td>1.352948e6</td><td>&quot;default&quot;</td><td>9299.0</td><td>8447.0</td><td>524.0</td><td>&quot;F&quot;</td><td>&quot;outlier&quot;</td></tr></tbody></table></div>"
      ],
      "text/plain": [
       "shape: (9, 13)\n",
       "┌────────────┬───────────┬────────────┬───────────┬───┬───────────┬───────────┬────────┬───────────┐\n",
       "│ statistic  ┆           ┆ _id        ┆ inter_api ┆ … ┆ num_users ┆ num_uniqu ┆ source ┆ classific │\n",
       "│ ---        ┆ ---       ┆ ---        ┆ _access_d ┆   ┆ ---       ┆ e_apis    ┆ ---    ┆ ation     │\n",
       "│ str        ┆ f64       ┆ str        ┆ uration(s ┆   ┆ f64       ┆ ---       ┆ str    ┆ ---       │\n",
       "│            ┆           ┆            ┆ ec)       ┆   ┆           ┆ f64       ┆        ┆ str       │\n",
       "│            ┆           ┆            ┆ ---       ┆   ┆           ┆           ┆        ┆           │\n",
       "│            ┆           ┆            ┆ f64       ┆   ┆           ┆           ┆        ┆           │\n",
       "╞════════════╪═══════════╪════════════╪═══════════╪═══╪═══════════╪═══════════╪════════╪═══════════╡\n",
       "│ count      ┆ 1699.0    ┆ 1699       ┆ 1695.0    ┆ … ┆ 1699.0    ┆ 1699.0    ┆ 1699   ┆ 1699      │\n",
       "│ null_count ┆ 0.0       ┆ 0          ┆ 4.0       ┆ … ┆ 0.0       ┆ 0.0       ┆ 0      ┆ 0         │\n",
       "│ mean       ┆ 849.0     ┆ null       ┆ 1.501123  ┆ … ┆ 406.26368 ┆ 67.246616 ┆ null   ┆ null      │\n",
       "│            ┆           ┆            ┆           ┆   ┆ 5         ┆           ┆        ┆           │\n",
       "│ std        ┆ 490.60337 ┆ null       ┆ 21.697558 ┆ … ┆ 960.71858 ┆ 82.189214 ┆ null   ┆ null      │\n",
       "│ min        ┆ 0.0       ┆ 00041830-3 ┆ 0.000003  ┆ … ┆ 1.0       ┆ 0.0       ┆ E      ┆ normal    │\n",
       "│            ┆           ┆ 168-3731-8 ┆           ┆   ┆           ┆           ┆        ┆           │\n",
       "│            ┆           ┆ bbc-c68383 ┆           ┆   ┆           ┆           ┆        ┆           │\n",
       "│            ┆           ┆ 11…        ┆           ┆   ┆           ┆           ┆        ┆           │\n",
       "│ 25%        ┆ 425.0     ┆ null       ┆ 0.000708  ┆ … ┆ 1.0       ┆ 14.0      ┆ null   ┆ null      │\n",
       "│ 50%        ┆ 849.0     ┆ null       ┆ 0.002574  ┆ … ┆ 141.0     ┆ 37.0      ┆ null   ┆ null      │\n",
       "│ 75%        ┆ 1274.0    ┆ null       ┆ 0.024822  ┆ … ┆ 309.0     ┆ 90.0      ┆ null   ┆ null      │\n",
       "│ max        ┆ 1698.0    ┆ ffbf4937-6 ┆ 852.92925 ┆ … ┆ 8447.0    ┆ 524.0     ┆ F      ┆ outlier   │\n",
       "│            ┆           ┆ 8e6-3d12-b ┆           ┆   ┆           ┆           ┆        ┆           │\n",
       "│            ┆           ┆ 817-dd3c5c ┆           ┆   ┆           ┆           ┆        ┆           │\n",
       "│            ┆           ┆ 14…        ┆           ┆   ┆           ┆           ┆        ┆           │\n",
       "└────────────┴───────────┴────────────┴───────────┴───┴───────────┴───────────┴────────┴───────────┘"
      ]
     },
     "execution_count": 5,
     "metadata": {},
     "output_type": "execute_result"
    }
   ],
   "source": [
    "data.describe()"
   ]
  },
  {
   "cell_type": "markdown",
   "metadata": {},
   "source": [
    "### Missing data"
   ]
  },
  {
   "cell_type": "code",
   "execution_count": null,
   "metadata": {},
   "outputs": [
    {
     "data": {
      "text/html": [
       "<div><style>\n",
       ".dataframe > thead > tr,\n",
       ".dataframe > tbody > tr {\n",
       "  text-align: right;\n",
       "  white-space: pre-wrap;\n",
       "}\n",
       "</style>\n",
       "<small>shape: (4, 12)</small><table border=\"1\" class=\"dataframe\"><thead><tr><th></th><th>_id</th><th>inter_api_access_duration(sec)</th><th>api_access_uniqueness</th><th>sequence_length(count)</th><th>vsession_duration(min)</th><th>ip_type</th><th>num_sessions</th><th>num_users</th><th>num_unique_apis</th><th>source</th><th>classification</th></tr><tr><td>i64</td><td>str</td><td>f64</td><td>f64</td><td>f64</td><td>i64</td><td>str</td><td>f64</td><td>f64</td><td>f64</td><td>str</td><td>str</td></tr></thead><tbody><tr><td>1556</td><td>&quot;8e8b99bb-7b6d-…</td><td>null</td><td>null</td><td>0.0</td><td>3</td><td>&quot;datacenter&quot;</td><td>2.0</td><td>1.0</td><td>0.0</td><td>&quot;E&quot;</td><td>&quot;outlier&quot;</td></tr><tr><td>1567</td><td>&quot;bedfd600-80ef-…</td><td>null</td><td>null</td><td>0.0</td><td>3</td><td>&quot;datacenter&quot;</td><td>4.0</td><td>1.0</td><td>0.0</td><td>&quot;E&quot;</td><td>&quot;outlier&quot;</td></tr><tr><td>1619</td><td>&quot;60a25ad0-add8-…</td><td>null</td><td>null</td><td>0.0</td><td>3</td><td>&quot;datacenter&quot;</td><td>2.0</td><td>1.0</td><td>0.0</td><td>&quot;E&quot;</td><td>&quot;outlier&quot;</td></tr><tr><td>1647</td><td>&quot;70b6a9dd-e4c6-…</td><td>null</td><td>null</td><td>0.0</td><td>3</td><td>&quot;datacenter&quot;</td><td>4.0</td><td>1.0</td><td>0.0</td><td>&quot;E&quot;</td><td>&quot;outlier&quot;</td></tr></tbody></table></div>"
      ],
      "text/plain": [
       "shape: (4, 12)\n",
       "┌──────┬─────────────┬─────────────┬────────────┬───┬───────────┬────────────┬────────┬────────────┐\n",
       "│      ┆ _id         ┆ inter_api_a ┆ api_access ┆ … ┆ num_users ┆ num_unique ┆ source ┆ classifica │\n",
       "│ ---  ┆ ---         ┆ ccess_durat ┆ _uniquenes ┆   ┆ ---       ┆ _apis      ┆ ---    ┆ tion       │\n",
       "│ i64  ┆ str         ┆ ion(sec)    ┆ s          ┆   ┆ f64       ┆ ---        ┆ str    ┆ ---        │\n",
       "│      ┆             ┆ ---         ┆ ---        ┆   ┆           ┆ f64        ┆        ┆ str        │\n",
       "│      ┆             ┆ f64         ┆ f64        ┆   ┆           ┆            ┆        ┆            │\n",
       "╞══════╪═════════════╪═════════════╪════════════╪═══╪═══════════╪════════════╪════════╪════════════╡\n",
       "│ 1556 ┆ 8e8b99bb-7b ┆ null        ┆ null       ┆ … ┆ 1.0       ┆ 0.0        ┆ E      ┆ outlier    │\n",
       "│      ┆ 6d-3437-9ab ┆             ┆            ┆   ┆           ┆            ┆        ┆            │\n",
       "│      ┆ c-1d884fe0… ┆             ┆            ┆   ┆           ┆            ┆        ┆            │\n",
       "│ 1567 ┆ bedfd600-80 ┆ null        ┆ null       ┆ … ┆ 1.0       ┆ 0.0        ┆ E      ┆ outlier    │\n",
       "│      ┆ ef-3e95-866 ┆             ┆            ┆   ┆           ┆            ┆        ┆            │\n",
       "│      ┆ 7-fa0d9a90… ┆             ┆            ┆   ┆           ┆            ┆        ┆            │\n",
       "│ 1619 ┆ 60a25ad0-ad ┆ null        ┆ null       ┆ … ┆ 1.0       ┆ 0.0        ┆ E      ┆ outlier    │\n",
       "│      ┆ d8-3976-bc5 ┆             ┆            ┆   ┆           ┆            ┆        ┆            │\n",
       "│      ┆ 1-a7ff6779… ┆             ┆            ┆   ┆           ┆            ┆        ┆            │\n",
       "│ 1647 ┆ 70b6a9dd-e4 ┆ null        ┆ null       ┆ … ┆ 1.0       ┆ 0.0        ┆ E      ┆ outlier    │\n",
       "│      ┆ c6-36a0-908 ┆             ┆            ┆   ┆           ┆            ┆        ┆            │\n",
       "│      ┆ d-2311c277… ┆             ┆            ┆   ┆           ┆            ┆        ┆            │\n",
       "└──────┴─────────────┴─────────────┴────────────┴───┴───────────┴────────────┴────────┴────────────┘"
      ]
     },
     "execution_count": 7,
     "metadata": {},
     "output_type": "execute_result"
    }
   ],
   "source": [
    "data.filter(pl.col(\"inter_api_access_duration(sec)\").is_null())"
   ]
  },
  {
   "cell_type": "markdown",
   "metadata": {},
   "source": [
    "**Observation**\n",
    "* The data is quite clean and there are only 4 rows of data have missing values\n",
    "* `_id` column in this dataset\n",
    "* `sequence_length(count)` is 0 which mean there was no API calls made\n",
    "\n",
    "**Action**\n",
    "* These 4 rows without missing values need to be dropped"
   ]
  },
  {
   "cell_type": "markdown",
   "metadata": {},
   "source": [
    "### Checking for outlier in the dataset"
   ]
  },
  {
   "cell_type": "code",
   "execution_count": null,
   "metadata": {},
   "outputs": [
    {
     "data": {
      "application/vnd.plotly.v1+json": {
       "config": {
        "plotlyServerURL": "https://plot.ly"
       },
       "data": [
        {
         "alignmentgroup": "True",
         "hovertemplate": "x=%{x}<extra></extra>",
         "legendgroup": "",
         "marker": {
          "color": "#636efa"
         },
         "name": "",
         "notched": false,
         "offsetgroup": "",
         "orientation": "h",
         "showlegend": false,
         "type": "box",
         "x": [
          0.0008122137266923936,
          0.00006324646128836197,
          0.004480996493658284,
          0.017837098231573513,
          0.0007971300684570827,
          0.0016601732773791798,
          0.004798067474615132,
          0.0075695735919234855,
          0.0007075345519393668,
          0.0007985063310334369,
          0.00029815745393634843,
          0.02153788634097707,
          0.0005854347826086956,
          0.024036203866432338,
          0.013711644591611479,
          0.000005924300603400988,
          0.0045198787537008315,
          0.015495678790061217,
          0.0016153125,
          0.01225919135863641,
          0.0009801966292134832,
          0.013987527114967462,
          0.0001470276383685587,
          0.0007481497753975047,
          0.026375936486637594,
          0.0012406642161453456,
          0.000528044466902476,
          0.0008268641470888662,
          0.0007321248741188319,
          0.0105085276714236,
          0.00249812817376478,
          0.00009682095888992441,
          0.01440345536816125,
          0.010757931844888366,
          0.001627679806362379,
          0.0006712919889772012,
          0.00020665736650391382,
          0.02036945706251352,
          0.2723377926421405,
          0.0000067114093959731546,
          0.001816000537956499,
          0.00006623176296677165,
          0.00000506420690902514,
          0.0009786140452173126,
          0.0010616992276238073,
          0.0034550387596899226,
          0.0005352635486265776,
          0.007342207597965899,
          0.0001744515743918818,
          0.024929719626168224,
          0.0006547140934909662,
          0.0214460716747071,
          0.0005637082862411517,
          0.0006764923989618094,
          0.004164353786992142,
          0.00012947170229261272,
          0.00017736486486486487,
          0.00823816717019134,
          0.0010583991755410511,
          0.00013443640124095142,
          0.005768597997138769,
          0.0006275346851654216,
          0.0006286427976686096,
          0.0007401528512639623,
          0.0008889407100798694,
          0.00000797773654916512,
          0.005862909820831165,
          0.0002380456547857429,
          0.004520852252881593,
          0.00011488134841428255,
          0.001698440651006902,
          0.000008999581414817915,
          0.00001056338028169014,
          0.0038639285255174186,
          0.004532562446813836,
          0.000690716104579338,
          0.0010746268656716418,
          0.00012627279185413212,
          0.0006844526218951243,
          0.00011815206310028437,
          0.00013706871321257847,
          0.00022656014470907445,
          0.0011438437406467202,
          0.0005661438089950028,
          0.0019899827829081233,
          0.000174822974036192,
          0.00027636022514071295,
          0.001065329218106996,
          0.0008096836049856184,
          0.001636296773007263,
          0.000015584415584415583,
          0.000010537870472008782,
          0.0007904060567347058,
          0.004521033285685113,
          0.032573954983922834,
          0.000687196110210697,
          0.0008111798940645639,
          0.00021522118742724097,
          0.00013336437408540642,
          0.000007945306725794531,
          0.0009523556465950375,
          0.000059494309838472834,
          0.012636692913385827,
          0.003405857740585774,
          0.00011137929004532877,
          0.0017537530065522102,
          0.033249895266024294,
          0.008162127346337872,
          0.0014914648953646167,
          0.02068049104180491,
          0.000736468200270636,
          0.006876943881000676,
          0.0004312849162011173,
          0.0010156193721774305,
          0.00000648807032231059,
          0.00015787094586958977,
          0.0007277335264301232,
          0.027153026026967703,
          0.0014051329702772322,
          0.0004783923172683621,
          0.0000721398403058236,
          0.0069517395772166765,
          0.024043488453874103,
          0.000013205086403651776,
          0.004618707235961928,
          0.014568627450980393,
          0.000005676552363299351,
          0.0001116905309056626,
          0.0016403861625100564,
          0.013343175970801173,
          0.0002124609510586602,
          0.003244803654261535,
          0.0030679652407539565,
          0.01786587982832618,
          0.003442353445922228,
          0.005746173784250802,
          0.000726353126642144,
          0.0014038182239154687,
          0.00015594162612925645,
          0.0009884564643799472,
          0.0033458302749703574,
          0.0107882566311494,
          0.022756160632795862,
          0.00537970655824642,
          0.028319413092550788,
          0.002339171507363727,
          0.2122073732718894,
          0.0006404027139417817,
          0.00044260151410874054,
          0.001345318580030869,
          0.0006374363720499768,
          0.000005389604457842331,
          0.0001325283989426306,
          0.02246529513555086,
          0.0001478673851493287,
          0.0018826777087646654,
          0.015301232876712327,
          0.00813919481155164,
          0.0006607806691449814,
          0.2255160427807487,
          0.001053919892466779,
          0.00041403958944281525,
          0.00012365591397849463,
          0.00219,
          0.0007118914888328658,
          0.00009621412479185034,
          0.00007316289653326194,
          0.0012226976744186047,
          0.010031964025279533,
          0.005721005970689343,
          0.005208591151328731,
          0.0010014005602240897,
          0.0013581131426606294,
          0.0009502849905003167,
          0.0008817351598173517,
          0.00021786823498314942,
          0.025191055834876953,
          0.0020429864253393663,
          0.01554018954018954,
          0.00382478077297824,
          0.001053362573099415,
          0.000405982905982906,
          0.0008091397849462365,
          0.0035869193314909857,
          0.0000757015321608081,
          0.00005950166857926741,
          0.00397927090779128,
          0.00012457465349821563,
          0.0000838293394061729,
          0.0017704202198705434,
          0.0008952536824877251,
          0.00024076773566569483,
          0.00006450981853411335,
          0.00008468588397931494,
          0.002106299212598425,
          0.0009452799412796151,
          0.00011292299493738343,
          0.03371925360474979,
          0.00031338783852835974,
          0.000009210268469527728,
          0.024822377746279232,
          0.003955638982531413,
          0.00007835574260159472,
          0.003834223191457362,
          0.00001077414205905826,
          0.02697568275346053,
          0.00008060268799841006,
          0.00011697697207251348,
          0.005311280853481472,
          0.000008605549701440113,
          0.002215248651887358,
          0.00007212255444813584,
          0.0005695642041482172,
          0.008141857142857143,
          0.00806228117949117,
          0.00006526161473904414,
          0.000012351124834583149,
          0.0008647594278283485,
          0.0016827816696441116,
          0.0006219558240513498,
          0.000009863588667366213,
          0.00006542754438265439,
          0.030543402777777777,
          0.0014190912714228776,
          0.0002824388149420352,
          0.000005021316911416391,
          0.0006518804243008679,
          0.009442262943571844,
          0.008043660432353656,
          0.007465552914245466,
          0.00016280864197530865,
          0.0007058678500986193,
          0.00015683977612911622,
          0.00447069099378882,
          0.00014072096128170893,
          0.0127689417989418,
          0.0003444444444444444,
          0.00005680046598482123,
          0.0005163358147229115,
          0.0001467492481741372,
          0.0009321047526673132,
          0.00012432031636183885,
          0.0050821474773609316,
          0.008521179515118495,
          0.0006040675547098002,
          0.0013483309143686503,
          0.010260242792109256,
          0.00024258600237247923,
          0.000005319714863283329,
          0.0001445606152250929,
          0.003907494486288544,
          0.0008084868788386377,
          0.004996039944903581,
          0.0446536559139785,
          0.0008931685283098148,
          0.00001849763140085721,
          0.0011830732292917167,
          0.024336088154269974,
          0.0033897868918375553,
          0.0001118984533859141,
          0.01675531380753138,
          0.0017247808543203005,
          0.030506020278833968,
          0.00015373134328358208,
          0.0007070787110406762,
          0.001038932146829811,
          0.0001262098167991704,
          0.00011339320166976532,
          0.0010475375724823478,
          0.002034318655269018,
          0.000007273744579661491,
          0.0000062004822597313125,
          0.0002492836676217765,
          0.012659233847913093,
          0.008421431633090441,
          0.0007233532934131737,
          0.005364597007088474,
          0.0005651815181518152,
          0.007583504931180232,
          0.000009936575052854123,
          0.01530301028592998,
          0.000836560805577072,
          0.001942297149122807,
          0.00014577199589181785,
          0.004972556347074623,
          0.014292301139388777,
          0.00010466348701642819,
          0.009935624341265879,
          0.0000925067593665508,
          0.00006087015635622025,
          0.00007937681976143515,
          0.0008316455696202532,
          0.005116200276069771,
          0.012272269292420425,
          0.00045831359545239227,
          0.0008980619711364897,
          0.0015457154571545714,
          0.0015287356321839081,
          0.009545935479409426,
          0.0006318082788671025,
          0.003012718831608473,
          0.011852781300960319,
          0.00020317905868529276,
          0.0148145968216598,
          0.013715940621531631,
          0.0005737246680642907,
          0.013011979670861568,
          0.0007881859005905512,
          0.010500175592625111,
          0.002079289131920711,
          0.0007625546889861137,
          0.0001942377408891433,
          0.005075339233038348,
          0.005245298518409857,
          0.00823788021323299,
          0.0015892997639653816,
          0.0009986577181208055,
          0.0009569152787834902,
          0.00025065322881672266,
          0.015500942408376963,
          0.01695133505598622,
          0.0008935898612513245,
          0.022303283767038416,
          0.00013885748487065238,
          0.000006153443309766955,
          0.004096383734307008,
          0.00008983481766758935,
          0.0010549088068209217,
          0.004079396817462302,
          0.004738993710691824,
          0.000005057422821620483,
          0.0029267646669315322,
          0.0010168194695398067,
          0.0019776376784720936,
          0.007055979133226324,
          0.04244366875300915,
          0.000008933773548261798,
          0.014634077555816687,
          0.0048497615262321145,
          0.0030724771855574658,
          0.000004525352257533682,
          0.000009475218658892128,
          0.000013589897775105232,
          0.00032581245105716523,
          0.003951188123362596,
          0.006494610667162237,
          0.006765911907175847,
          0.000005015673981191223,
          0.04540337078651685,
          0.0001535487434410384,
          0.0000116973618715779,
          0.030374023293527938,
          0.0005288966725043783,
          0.011098554893500446,
          0.0025206725809779245,
          0.006742741302641904,
          0.0012820906994619524,
          0.000978337236533958,
          0.009269688947716745,
          0.00034146013835717644,
          0.0030049081697276756,
          0.0001236326555837093,
          0.000106759461426492,
          0.0009022988505747126,
          0.00019665985003408315,
          0.0008846545683055948,
          0.0004620829120323559,
          0.21509868421052633,
          0.0010178443968593862,
          0.00010483460559796437,
          0.010453644553644554,
          0.00000912280701754386,
          0.005956436594738398,
          0.000005241935483870968,
          0.00009323554242296329,
          0.0013915453915453915,
          0.0012937665782493369,
          0.0008804086538461538,
          0.02665243639499784,
          0.00014155130158309597,
          0.000011352169525731583,
          0.0007873606564795679,
          0.00029045290240272163,
          0.00014870768110666183,
          0.0006909158050221565,
          0.00000895638629283489,
          0.0071045425933697025,
          0.000005769735116706006,
          0.00001044504995458674,
          0.0036229989580373215,
          0.022352941176470586,
          0.0006547314578005116,
          0.0008136461704422869,
          0.009021366901255169,
          0.0008342433697347894,
          0.00039167120304844856,
          0.015139527127186482,
          0.000010715914272685818,
          0.0009034234069746211,
          0.00015548391429914701,
          0.0004444077862091719,
          0.0000067276641550053825,
          0.0012017205576980126,
          0.00015475231574708015,
          0.001408871601445859,
          0.014776949673453707,
          0.0021853888452474466,
          0.0018834264757247644,
          0.0002092770710518151,
          0.0001469290042642328,
          0.00011818154284156647,
          0.0000599772923762799,
          0.001106045589692765,
          0.0001726051726051726,
          0.00007105233665807464,
          0.001031967213114754,
          0.009438662465697734,
          0.0005565326633165829,
          0.00008134200196270854,
          0.000008781558726673984,
          0.0012576786291626251,
          0.00014378676010511827,
          0.0014155185238639769,
          0.009079537729435759,
          0.01399701089181885,
          0.0020369776609724046,
          0.0006075491209927611,
          0.000007154213036565978,
          0.00017802056555269924,
          0.0008338741077222583,
          0.0034209178923850303,
          0.0006841919548341566,
          0.0010209334286185477,
          0.02114375323331609,
          0.000010347864376926464,
          0.02036287141730213,
          0.0006820964039785768,
          0.010502835723598435,
          0.006726186029137094,
          0.007276873700388754,
          0.0001262686009588444,
          0.0006196403872752421,
          0.002574350582941297,
          0.013826137787056368,
          0.00007730804795353893,
          0.000013448090371167295,
          0.007451733232856066,
          0.0023061844017439044,
          0.008571741511500548,
          0.000847682119205298,
          0.0004023756495916852,
          0.00942039481368999,
          0.0013959633027522936,
          0.0008653463799812537,
          0.00014290310127396732,
          0.004587241782512668,
          0.0004216489216489216,
          0.029514660831509845,
          0.000749730312837109,
          0.001734564236523391,
          0.013808762619725603,
          0.0005453616673477728,
          0.004183941090432238,
          0.000006363636363636364,
          0.00010020237303171435,
          0.00009066235714396178,
          0.0008939108600125549,
          0.004644739312762096,
          0.007119562166713444,
          0.0028700956149027364,
          0.000008852629751779205,
          0.001935720640569395,
          0.00014377190617417094,
          0.0001342225927469779,
          0.0012277554406790478,
          0.000152172330980278,
          0.0008859824780976219,
          0.0008251928020565553,
          0.010306855002025111,
          0.0009083224967490247,
          0.000009286702232760325,
          0.00240633130962706,
          0.0004029895908980876,
          0.02911835767864193,
          0.0011303456356180433,
          0.003020376707855482,
          0.0008444733796296297,
          0.012475441289332308,
          0.00034506866416978777,
          0.000009361233480176211,
          0.000018002209657503088,
          0.0033107572115384618,
          0.003947258485639687,
          0.0005133782150871742,
          0.00021470026727758688,
          0.015655037546933665,
          0.016771214642262895,
          0.001587512291052114,
          0.0009108409321175278,
          0.0005292713967546929,
          0.003293523387766399,
          0.006969623155179825,
          0.0036886803473384993,
          0.00924685216850614,
          0.014236825396825397,
          0.0005768817204301075,
          0.007307044410413476,
          0.01213445587259456,
          0.0011945881514432825,
          0.0009601215343714394,
          0.000015073009891662741,
          0.00013105489773950486,
          0.009457938257993386,
          0.0001117560865644725,
          0.016962536212799577,
          0.028010907704042715,
          0.000005006739842095128,
          0.00008447219887114208,
          0.010570473568900625,
          0.000003231435403606282,
          0.000005461010922021844,
          0.20297442455242967,
          0.005947441317976382,
          0.0014752482734284417,
          0.039617851536218884,
          0.0199841381741276,
          0.0030462405284631825,
          0.04942935596605092,
          0.00012660593319317918,
          0.000884905313476742,
          0.004285917915949865,
          0.0006825121443442053,
          0.000004871426289730075,
          0.003132183121091789,
          0.011557008451602615,
          0.0001971363715732495,
          0.000988607594936709,
          0.000003893129770992366,
          0.013716922695738354,
          0.0012947303921568628,
          0.0009904644724700092,
          0.010300271190352548,
          0.0011470083073363945,
          0.0007688702516033547,
          0.000980068060281964,
          0.0011132930513595165,
          0.015029285626761427,
          0.00030038397164517083,
          0.03266341364921254,
          0.002108533196643915,
          0.0007286075949367089,
          0.0033941814033086135,
          0.013201780415430268,
          0.00006906012947653462,
          0.001419629057187017,
          0.015892504667911443,
          0.006829869304774006,
          0.0014867854947756608,
          0.02425289635737397,
          0.00083966562230644,
          0.0005365329512893982,
          0.004880537716338304,
          0.010229563197625652,
          0.0008554063860667635,
          0.011193988310603952,
          0.0010767558911004347,
          0.0133085860017002,
          0.01547196191051995,
          0.009489490616621984,
          0.0009024896265560166,
          0.016681123919308358,
          0.0011567912488605287,
          0.0027297082754514784,
          0.002141100661790317,
          0.008852464262854704,
          0.0000921001521380248,
          0.0025555754670489672,
          0.16700721153846154,
          0.00011395216400911163,
          0.00015614766299493896,
          0.000010351444152696424,
          0.009682982791586997,
          0.0008409763313609467,
          0.0009740273525209226,
          0.0044609634551495015,
          0.0015845231296402055,
          0.00001099163679808841,
          0.003443512304250559,
          0.00013092777046921005,
          0.0008283969465648855,
          0.0004864227642276423,
          0.008315704313254128,
          0.0010739856801909309,
          0.01716776930821228,
          0.2646054421768707,
          0.01115412533268812,
          0.0006802810427473899,
          0.020898339204831404,
          0.006490720311486048,
          0.00026093423379964625,
          0.0029434410646387832,
          0.0008511520737327188,
          0.0007926136363636363,
          0.0000658922914466737,
          0.029655080213903746,
          0.0007626666666666667,
          0.01121621101270697,
          0.00018234005589546037,
          0.007194649644983146,
          0.004656287069988138,
          0.00020322262413679712,
          0.011711971104231165,
          0.0000042564280750521195,
          0.02361231145536078,
          0.002053240946374108,
          0.0005371144798745427,
          0.006823672148827177,
          0.007437699069945216,
          0.006333560540339572,
          0.0003118239739220625,
          0.015517532757593806,
          0.014922611850060458,
          0.0013913824057450628,
          0.0006807051909892263,
          0.001102880658436214,
          0.000177430073098532,
          0.006300916030534351,
          0.00000834756213242269,
          0.015628055260361318,
          0.00039536567704561907,
          0.000008579272477693891,
          0.00018410924891371818,
          0.013175474129994477,
          0.0011022612217347282,
          0.0008593852190974493,
          0.0016237016564605575,
          0.006607640825432236,
          0.004493166885676741,
          0.0009827771797631863,
          0.013051013874066169,
          0.001594721157939549,
          0.0012945414995581537,
          0.0004907883461868038,
          0.0006483253588516747,
          0.004017886816838996,
          0.000005338853780780126,
          0.0007482464929859719,
          0.00010161090458488229,
          0.00015849673202614377,
          0.007887185959850943,
          0.007517720167006505,
          0.0072069849407241275,
          0.00028376593099160705,
          0.00014370839936608557,
          0.015351756007393715,
          0.004773584905660377,
          0.0002388264955305982,
          0.0087049601857996,
          0.02276120857699805,
          0.001687166304132885,
          0.009125379645480148,
          0.0011483138334480384,
          0.000047748759036889044,
          0.0005948275862068965,
          0.0006542857142857142,
          0.0014052901023890786,
          0.016826001313197638,
          0.0010136186770428016,
          0.0015786555521566227,
          0.009179837416357906,
          0.0069937665281450696,
          0.00020081919926156686,
          0.012058560238716896,
          0.0004909766454352442,
          0.0007213049690427052,
          0.007760529323837158,
          0.0009075008409014463,
          0.0007557018575123442,
          0.012255196304849884,
          0.000011423550087873463,
          0.0074779352894079965,
          0.0012065439672801638,
          0.00011721639950678175,
          0.004237031547745077,
          0.00014749700598802395,
          0.0003030707610146863,
          0.000607641252552757,
          0.00008110454301186391,
          0.003021072796934866,
          0.029169176470588237,
          0.0008833073727933542,
          0.00018433091879527258,
          0.001620274914089347,
          0.016442596674013224,
          0.000009344012204424104,
          0.001552197255915689,
          0.00041105263157894737,
          0.0001167995444191344,
          0.0020496134020618556,
          0.0006812785388127854,
          0.011379407616361071,
          0.0007574791564492398,
          0.000011145272867025366,
          0.007154165493948776,
          0.0006380403458213257,
          0.00010386686543551675,
          0.0008313206577595067,
          0.007789576316255983,
          0.000014560582423296931,
          0.002623933360422592,
          0.00046189294576391346,
          0.0001389806512505899,
          0.00012028739184177998,
          0.0008413533834586467,
          0.0023505338078291813,
          0.0005437352245862884,
          0.00017702138428444893,
          0.2349673590504451,
          0.000011153298528713812,
          0.0061780364070426735,
          0.011330717488789239,
          0.0007144249512670565,
          0.0012011834319526626,
          0.00065655133295519,
          0.00013540635109262562,
          0.00028253156201006683,
          0.000904912226670773,
          0.014015707874337006,
          0.00014089560477471881,
          0.005439771729587357,
          0.0018292638860210612,
          0.01978670562454346,
          0.005055073349633252,
          0.00016803506818814363,
          0.00020167828995860972,
          0.012072524407252441,
          0.0006525374855824682,
          0.020754788507581803,
          0.026129130269654386,
          0.0017436893203883494,
          0.010136343790931205,
          0.001126098586167367,
          0.0004800057954216169,
          0.00045840436413228773,
          0.0013315525876460767,
          0.00015681566309567788,
          0.0037586253920632753,
          0.000014823599169878447,
          0.000007923128792987187,
          0.03311582504223766,
          0.0009163822525597269,
          0.001068559185859668,
          0.00047414997671169074,
          0.0030473389355742293,
          0.0007173601147776184,
          0.00013596621661809312,
          0.00010842042654431133,
          0.009357689586415386,
          0.00009519876097057305,
          0.00011254655493482309,
          0.001210510078157137,
          0.013427782974742751,
          0.027498795522176562,
          0.0001479716024340771,
          0.015622423398328691,
          0.000338099740014181,
          0.21245548961424332,
          0.013592235004108463,
          0.00000872865275142315,
          0.0000053680981595092024,
          0.0013731751824817518,
          0.0039614649681528665,
          0.00022511424597655474,
          0.001761622992392223,
          0.00013849118942731278,
          0.005608487425088357,
          0.0001490367139222101,
          0.010515787447054293,
          0.0023251953125,
          0.00009971319311663481,
          0.00015104537050206229,
          0.011341967734605772,
          0.000014305750350631136,
          0.003071143085531575,
          0.0009839506172839507,
          0.00000728650539201399,
          0.028066328054974606,
          0.0007268475691232398,
          0.018110181644359465,
          0.00012991712384732113,
          0.026031739961759084,
          0.000019812526629740094,
          0.024057231511808306,
          0.00023751248751248752,
          0.0011138014527845037,
          0.001316609735269001,
          0.00028209751875360646,
          0.000022606382978723404,
          0.00013658062234794908,
          0.000020128824476650564,
          0.0007061721991701245,
          0.0006731682920730183,
          0.00000915157292659676,
          0.0005984570168993387,
          0.0008619737750172532,
          0.000261103781882146,
          0.0013848797250859107,
          0.0010404595404595405,
          0.0001791093917194831,
          0.012652989190381646,
          0.001731607280184568,
          0.01566732838783826,
          0.01332029520295203,
          0.000006792639249104606,
          0.028435845213849287,
          0.00014591284281530132,
          0.0008616863905325444,
          0.007396409584713768,
          0.00014047719892700832,
          0.05077223154362416,
          0.00621937441643324,
          0.00123078231292517,
          0.0001966099823321555,
          0.0008382608695652174,
          0.000008530438154323382,
          0.0000063254744105807935,
          0.000156508102456874,
          0.0008394557823129252,
          0.003950332089009551,
          0.00048358189429618004,
          0.014741549522480954,
          0.00012420267180166084,
          0.0009428658722884204,
          0.0006502472422974515,
          0.012894183168316833,
          0.028123132704858594,
          0.0010003368137420005,
          0.005874878444084278,
          0.015124620060790274,
          0.001054109589041096,
          0.014124564025909317,
          0.20863424657534246,
          0.02337637265320581,
          0.000004753199268738575,
          0.21859948320413436,
          0.0027393031233074565,
          0.0001778323510150622,
          0.0013234077750206782,
          0.0007803819444444444,
          0.000005288262131895479,
          0.0007875354107648725,
          0.0001230855435188644,
          0.01766826287978864,
          0.0009471553377370552,
          0.008320604427784936,
          0.0259119825708061,
          0.00014478685853923433,
          0.00011729134235420907,
          0.0002682570593962999,
          0.0008025629887054734,
          0.0010240303541315346,
          0.0018334714167357084,
          0.00012117274884193876,
          0.0007109406540169559,
          0.23302567975830815,
          0.000850860155382908,
          0.000008737092930897538,
          0.0003348193336461755,
          0.004289143480632842,
          0.00015600478787072749,
          0.02735242689176967,
          0.00000851214754389076,
          0.009756835769561479,
          0.0299823828550672,
          0.0001732083922677982,
          0.00011418033877682934,
          0.0000102757409893628,
          0.00052577173605211,
          0.00011321021388862716,
          0.0008037459283387622,
          0.0004983635822671823,
          0.0020994152046783627,
          0.000016625615763546798,
          0.000761147362697118,
          0.0001113580795732385,
          0.0007688588007736944,
          0.0009326325140657387,
          0.000007413376309427881,
          0.0013891102257636123,
          0.031524084061744465,
          0.00016059584035975265,
          0.005760158246105662,
          0.00009687034277198212,
          0.00013470826262889962,
          0.00038680555555555555,
          0.00011448903772696353,
          0.0008915776241357636,
          0.0001932740626207963,
          0.008441739824421389,
          0.000015499070055796652,
          0.009250254007676676,
          0.000005709452315500105,
          0.027461521450685537,
          0.000009386523633925577,
          0.011143172395345728,
          0.0010012066365007542,
          0.0015551558752997603,
          0.04019125237707145,
          0.0033106646058732613,
          0.00013445378151260505,
          0.0004706386292834891,
          0.014813193228254525,
          0.0005657383419689119,
          0.03867808958445764,
          0.0006927244582043344,
          0.0009643507281553398,
          0.00045368210596467845,
          0.00015624772047559998,
          0.00048403575989782886,
          0.0011276159212146083,
          0.014404344048653345,
          0.01604850313297749,
          0.2568981818181818,
          0.0010969418960244648,
          0.0008115702479338843,
          0.000140731723811456,
          0.0009135373934995267,
          0.00000881316098707403,
          0.0009206489675516224,
          0.0008960953011250827,
          0.0004104619403871274,
          0.000804678188319428,
          0.0007853457172342621,
          0.0011567164179104477,
          0.000004786934484700583,
          0.0012459016393442624,
          0.0000916030534351145,
          0.00003289473684210526,
          0.0000996309963099631,
          0.0016362876254180604,
          0.0019441805225653207,
          0.0008552036199095022,
          0.0009480259870064967,
          0.0014376979936642027,
          0.0005295267042987409,
          0.0006828087167070218,
          0.0009498982706002035,
          0.001086231884057971,
          0.0015319080012957565,
          0.0011054054054054055,
          0.0010303347280334726,
          0.0010659203980099502,
          0.0011376811594202899,
          0.0009981735159817352,
          0.000675438596491228,
          0.00020741758241758242,
          0.0006085440278988666,
          0.0007180008126777733,
          0.00012962962962962963,
          0.0012559274755927477,
          0.0011291187739463603,
          0.0020535810446957454,
          0.001252925877763329,
          0.000822998046875,
          0.000026442307692307694,
          0.0007726849697533737,
          0.0014243079584775086,
          0.0012031134173461824,
          0.002671273221567739,
          0.0005411570247933885,
          0.0006550141242937853,
          0.002216757741347905,
          0.001940069150979639,
          0.00010450450450450451,
          0.0008278236914600551,
          0.0011223241590214068,
          0.00231651376146789,
          0.0008660145586897179,
          0.0009322974472807991,
          0.0027144896502498215,
          0.0009952483801295897,
          0.00047329749103942653,
          0.0010568454763811048,
          0.0011710414902624895,
          0.0009752916952642417,
          0.0010473563218390805,
          0.0017595744680851063,
          0.0019062776304155616,
          0.0010226814516129032,
          0.0019690376569037656,
          0.0006313107920333487,
          0.0010058458165875046,
          0.006453588101183367,
          0.0020440484196368527,
          0.0023191899710703952,
          0.00017716535433070864,
          0.0015050980392156863,
          0.0016348408710217754,
          0.001076820307281229,
          0.00043724696356275305,
          0.0008604978863316111,
          0.0007291558777835318,
          0.00149743964886613,
          0.004839534883720931,
          0.003774625267665953,
          0.0007679856115107913,
          0.0007114731839782757,
          0.0007773262901259651,
          0.0011629292221443587,
          0.002758206195099399,
          0.002744595676541233,
          0.0025718113612004283,
          0.0009661016949152542,
          0.0014185861795075457,
          0.0007889972144846796,
          0.0012676537585421413,
          0.00004608294930875576,
          0.000936201239518775,
          0.0018492063492063493,
          0.001161533196440794,
          0.0008179012345679012,
          0.007278867924528302,
          0.0014662113587347232,
          0.00002904564315352697,
          0.0006897570584372949,
          0.00015865384615384616,
          0.0016852189781021898,
          0.00642619462178371,
          0.0013243243243243243,
          0.0008181818181818183,
          0.001681703629032258,
          0.0017723952326028451,
          0.0018238993710691825,
          0.001931248064416228,
          0.002101081812035159,
          0.00007661290322580645,
          0.00010192837465564738,
          0.00014092140921409212,
          0.0011751863684771034,
          0.001429991356957649,
          0.0008493265993265994,
          0.0006240530303030302,
          0.0006214092140921409,
          0.0013688204683434519,
          0.0012833402575820523,
          0.0012704755614266843,
          0.00006493506493506494,
          0.0013342105263157895,
          0.0008803582853486884,
          0.0013836424957841484,
          0.0008246250604741171,
          0.00011952191235059761,
          0.0007037444933920704,
          0.0009204474829086389,
          0.0011841526045487894,
          0.00003255813953488372,
          0.0006409214092140921,
          0.0008760708166761851,
          0.0014535055350553506,
          0.0019245283018867925,
          0.0020539499036608864,
          0.000790794979079498,
          0.00024669603524229077,
          0.001435907335907336,
          0.0009929742388758783,
          0.000533204384268214,
          0.0022775384615384615,
          0.000023952095808383234,
          0.001110070257611241,
          0.0009712701612903227,
          0.001035606517803259,
          0.0010647109577221743,
          0.0012274573517465474,
          0.0010337748344370862,
          0.0010616078136739292,
          0.0006789500252397779,
          0.0010897284533648171,
          0.0007504019292604501,
          0.0016114754098360655,
          0.0011022176022176021,
          0.00014133333333333334,
          0.0008411642411642412,
          0.00155875468164794,
          0.006715909090909091,
          0.00023636363636363636,
          0.001331109763493026,
          0.000599197247706422,
          0.0030368311327310634,
          0.0010136319376825706,
          0.001921116504854369,
          0.0001319910514541387,
          0.0007221873035826524,
          0.0000712401055408971,
          0.0006163484486873508,
          0.001799429657794677,
          0.0011759674134419551,
          0.0006327387198321092,
          0.0010170006071645416,
          0.000804322429906542,
          0.0005649477806788512,
          0.000600896860986547,
          0.0006178493845039826,
          0.0007767902488572879,
          0.0013443054641211322,
          0.0011292984869325996,
          0.0012205029013539653,
          0.002787878787878788,
          0.001625,
          0.0006666666666666666,
          0.00811111111111111,
          3.509857142857143,
          0.00062,
          0.015,
          9.598933823529412,
          16.28032894736842,
          28.316714285714287,
          0.004125,
          0.002,
          0.4584274809160306,
          0.0017815884476534297,
          0.0017815884476534297,
          0.0017815884476534297,
          0.0017815884476534297,
          1.1446502242152468,
          0.00019277810133954573,
          0.0105,
          0.015758522727272725,
          0.009871212121212121,
          0.9922392909896602,
          0.012375,
          0.010833333333333334,
          0.8426556886227545,
          3.78996875,
          0.005,
          0.0881,
          0.0008846153846153846,
          0.02,
          0.465609375,
          0.14329368029739778,
          0.0009753086419753087,
          0.008,
          2.733840909090909,
          0.7996388888888889,
          0.009,
          0.007211864406779661,
          0.7283,
          0.00225,
          0.32822222222222225,
          10.012815217391305,
          0.28878571428571426,
          0.041960000000000004,
          0.0085,
          0.00875,
          19.480412790697674,
          2.09685,
          0.0025,
          0.20261764705882354,
          0.0008666666666666667,
          0.02325,
          0.003625,
          5.7043513513513515,
          0.49223809523809525,
          0.0003581780538302277,
          0.05201724137931034,
          0.0009746666666666666,
          0.0012631578947368421,
          2.5239969325153373,
          0.014305555555555556,
          0.04825,
          0.0001991421568627451,
          0.06388888888888888,
          1.52875,
          0.8496745843230403,
          0.002,
          0.003,
          10.078358974358975,
          0.23121428571428573,
          0.0035,
          10.668225352112676,
          0.011,
          0.003405609492988134,
          0.006666666666666667,
          11.721073076923078,
          11.721073076923078,
          11.721073076923078,
          11.721073076923078,
          0.39792319277108434,
          0.8376634615384615,
          0.08442,
          0.020774193548387096,
          0.011,
          0.19481927710843375,
          0.4807558139534884,
          0.4807558139534884,
          0.4807558139534884,
          0.4807558139534884,
          0.066,
          0.7404627659574468,
          0.0010526315789473684,
          2.267,
          0.0595,
          0.0017777777777777776,
          0.001,
          0.003,
          0.0135,
          3.2100862068965514,
          0.60275,
          0.621859375,
          0.005818181818181819,
          46.98109090909091,
          0.6690952380952381,
          0.0006034019695613249,
          0.9535379310344828,
          0.1565,
          0.00725,
          0.0014285714285714286,
          2.9757903930131007,
          0.1035,
          7.064972972972973,
          0.0215,
          0.0035,
          0.8047777777777778,
          0.15016,
          0.0012857142857142859,
          1.2718333333333331,
          2.9852580645161293,
          0.0029090909090909093,
          1.3121852791878172,
          0.0019375,
          2.731596551724138,
          0.17521739130434782,
          0.45805,
          0.12772950819672133,
          10.25305,
          2.2770405405405403,
          0.0013658340048348105,
          0.043375,
          0.16410256410256413,
          45.74734782608696,
          0.5691422594142259,
          0.003625,
          0.00030434782608695655,
          10.640357142857143,
          0.9239264705882353,
          0.0003151680290644868,
          4.189119658119658,
          0.006,
          1.1560714285714286,
          4.7732624999999995,
          0.8589049999999999,
          20.33578947368421,
          41.283227272727274,
          3.5641875,
          0.076875,
          2.749826923076923,
          0.895125,
          26.36399504950495,
          1.5245,
          0.0009473684210526315,
          4.6,
          0.335,
          0.034640776699029124,
          0.025451923076923077,
          18.789785714285713,
          0.7276666666666667,
          0.3506,
          0.06333333333333334,
          1.88075,
          0.006009615384615385,
          0.2174375,
          0.21913566739606127,
          0.0014615384615384614,
          0.050833333333333335,
          0.004833333333333333,
          0.002528695652173913,
          0.002528695652173913,
          0.002528695652173913,
          0.002528695652173913,
          0.002769230769230769,
          0.11534615384615383,
          2.958545918367347,
          0.005,
          0.05518,
          19.126833333333334,
          0.0018888888888888887,
          0.3436666666666667,
          0.067,
          21.208,
          0.00275,
          0.798755376344086,
          0.008,
          0.005833333333333333,
          29.826886243386245,
          0.002125,
          0.96625,
          0.0006571428571428571,
          0.03187209302325582,
          0.0013,
          0.00048148148148148144,
          0.9792114537444934,
          0.4246388888888889,
          0.06444354838709677,
          0.37402380952380954,
          0.0017966171617161716,
          0.00525,
          0.0051818181818181815,
          1.778529761904762,
          0.5916531476997579,
          0.3788506493506493,
          0.13745,
          0.033416666666666664,
          21.59933333333333,
          0.013,
          0.42854838709677423,
          0.010199999999999999,
          1.4016814814814815,
          0.0013125,
          0.07674500000000001,
          2.3419475190839694,
          0.8916562162162162,
          3.4339473684210526,
          0.406,
          0.00825,
          3.1715,
          0.09934177215189874,
          0.46553846153846157,
          2.234935483870968,
          0.04725,
          0.017526785714285717,
          1.43863,
          0.0075,
          0.186,
          3.2275238095238095,
          0.5923846153846154,
          1.4064173913043478,
          0.0016666666666666668,
          2.0565862068965517,
          0.01025,
          5.741806122448979,
          0.0021875,
          0.0008611111111111112,
          0.007,
          0.6076323529411765,
          0.005881909547738694,
          0.00854251012145749,
          0.00575,
          55.363375,
          2.7446346153846153,
          2.936099173553719,
          0.4082303370786517,
          2.625864988558352,
          0.0525,
          0.0065,
          0.207,
          0.0588,
          0.44158749999999997,
          19.133529411764705,
          0.006900000000000001,
          0.037625,
          0.5694191616766467,
          10.61148,
          0.004583333333333333,
          0.01175,
          0.023431818181818182,
          0.314452380952381,
          0.309114006514658,
          0.0014166666666666668,
          0.002625,
          0.01075,
          81.1654117647059,
          0.0174,
          0.0175,
          0.0075,
          0.00164,
          0.002,
          1.2663202247191012,
          0.1791111111111111,
          0.004909090909090909,
          0.0019375,
          0.00225,
          0.024982698961937718,
          0.013721951219512196,
          0.0125,
          0.0019375,
          0.019970588235294115,
          0.12032692307692308,
          0.0015454545454545454,
          0.008,
          0.006,
          3.8361417910447764,
          1.5965714285714288,
          0.2348611111111111,
          0.0010208333333333332,
          0.002391304347826087,
          0.9593564814814816,
          2.985230769230769,
          22.909453333333335,
          0.45209848484848486,
          2.6115,
          0.13418181818181818,
          0.01025,
          18.909666666666666,
          0.009602836879432624,
          0.09966666666666667,
          0.003,
          3.240220873786408,
          0.0034545454545454545,
          0.37825,
          0.6194285714285714,
          0.6660741324921136,
          0.005090909090909091,
          0.00022029372496662218,
          0.0009090909090909091,
          3.705173333333333,
          2.6953165938864627,
          0.0086,
          0.5553541666666666,
          0.18644827586206894,
          0.45644444444444443,
          28.738330357142857,
          1.118925561797753,
          0.0025625,
          1.1024347826086958,
          0.062,
          0.00003076923076923077,
          1.7049756097560975,
          0.27815900131406046,
          0.9772767653758542,
          0.21725,
          0.26725,
          2.159348432055749,
          2.758485294117647,
          0.5653636363636364,
          0.007380434782608696,
          0.03554545454545455,
          0.0008457943925233645,
          0.007202985074626866,
          0.29507142857142854,
          2.2128500948766603,
          0.008708333333333334,
          0.0085,
          0.09531034482758621,
          0.11616666666666667,
          0.05714705882352941,
          10.237916666666665,
          0.0008372093023255815,
          0.0065,
          1.0001322033898306,
          0.0015555555555555557,
          0.0330990099009901,
          0.004,
          0.00625,
          0.005333333333333333,
          1.056529411764706,
          0.0020217391304347826,
          0.055790697674418605,
          0.021979591836734695,
          0.00425,
          1.1106098901098902,
          0.016458333333333332,
          0.7863671399594321,
          0.6635,
          1.0587142857142857,
          1.3499385342789598,
          0.0009230769230769232,
          0.50525,
          0.0011412985630654604,
          15.5070658436214,
          1.994448275862069,
          0.0013,
          0.394,
          0.0410625,
          6.728789473684211,
          0.05327272727272727,
          0.002,
          0.052055555555555556,
          0.004583333333333333,
          2.0936363636363633,
          0.32530263157894734,
          5.359954545454545,
          0.0010769230769230769,
          0.0017777777777777776,
          7.760952586206897,
          0.45209090909090904,
          0.061,
          0.24427777777777776,
          0.040625,
          9.396714285714285,
          0.01172222222222222,
          2.0058467741935484,
          5.4968515625,
          1.734480144404332,
          28.289166666666667,
          0.0016153846153846153,
          30.854923780487805,
          0.4746666666666667,
          0.40329166666666666,
          5.33315,
          1.6711923076923076,
          1.8814102564102564,
          0.025857142857142856,
          0.009800000000000001,
          48.83175,
          0.01175,
          0.006,
          1.4162962962962964,
          0.06835294117647059,
          3.4990290697674418,
          0.0013076923076923077,
          0.028485714285714284,
          0.07075,
          0.3186724137931034,
          8.750117924528302,
          8.750117924528302,
          8.750117924528302,
          8.750117924528302,
          0.01375,
          1.1086518987341771,
          0.001875,
          0.010959349593495935,
          0.00575,
          0.7225973597359736,
          0.0018666666666666666,
          0.06025,
          0.0014321462945139558,
          0.007666666666666667,
          0.006833333333333333,
          0.03565,
          0.2834,
          0.0116,
          3.6822241379310343,
          26.973636363636363,
          84.04507407407408,
          0.00175,
          1.3918333333333333,
          0.0016153846153846153,
          0.1085,
          1.1018076923076925,
          4.76825,
          2.4726999999999997,
          0.7793809523809524,
          0.106,
          3.487462962962963,
          5.276555555555555,
          11.328421348314606,
          10.62225,
          0.011,
          0.00025,
          3.8401176470588236,
          3.1979210526315787,
          2.40195,
          9.324283783783784,
          9.141666666666666,
          4.17793085106383,
          9.253941176470587,
          7.797227272727273,
          null,
          0.12425396825396826,
          0.0213,
          0.14357142857142857,
          0.11404597701149426,
          0.005666666666666667,
          0.126578125,
          0.17622641509433962,
          0.0018571428571428571,
          0.0038666666666666667,
          0.005666666666666667,
          null,
          0.15325396825396825,
          0.014305555555555556,
          0.09226760563380282,
          0.05618181818181818,
          0.005,
          0.13294117647058823,
          0.00475,
          0.0086875,
          0.11233333333333333,
          0.12258730158730158,
          0.024166666666666666,
          0.0727741935483871,
          0.10118433179723502,
          0.11019047619047619,
          0.12583098591549297,
          0.2140793650793651,
          0.09522222222222222,
          1.448434599156118,
          0.01525,
          0.005,
          0.026534161490683227,
          0.08876623376623377,
          0.008333333333333333,
          0.017375,
          0.009333333333333334,
          0.00078125,
          0.00625,
          0.041125,
          0.0033930514859773966,
          0.08933802816901408,
          0.004083333333333333,
          0.11706349206349206,
          0.03425,
          0.11033333333333332,
          0.0033227659574468086,
          0.050666666666666665,
          0.2598076923076923,
          0.007453125,
          0.0066,
          0.030285714285714284,
          0.053125,
          0.008333333333333333,
          0.004266666666666667,
          0.028416666666666666,
          0.13225396825396826,
          0.003,
          0.0880909090909091,
          0.13490140845070422,
          0.17187301587301587,
          0.10544444444444444,
          0.10284126984126983,
          null,
          0.15884126984126984,
          0.15884126984126984,
          0.15884126984126984,
          0.15884126984126984,
          0.005333333333333333,
          0.09761904761904762,
          0.0053905508072174734,
          0.007666666666666667,
          0.09182707622298067,
          0.12815873015873014,
          0.00725,
          0.0216,
          0.07614285714285714,
          0.0037791912766924124,
          0.043,
          0.1246470588235294,
          0.050375,
          0.12258730158730158,
          0.00425,
          0.09677777777777777,
          0.004666666666666667,
          0.11494339622641508,
          0.12215873015873016,
          0.11660317460317461,
          0.086,
          0.13452564102564102,
          0.11901487414187643,
          null,
          0.003529411764705882,
          5.169958904109588,
          0.008333333333333333,
          0.11411111111111111,
          0.008199999999999999,
          0.0034615384615384616,
          0.5298571428571429,
          0.10506349206349207,
          0.11307407407407408,
          0.00475,
          0.0505,
          0.0505,
          0.0505,
          0.0505,
          0.006,
          0.11198412698412699,
          0.00140625,
          0.07716470588235294,
          0.0033422876949740035,
          0.1149047619047619,
          0.10077777777777777,
          0.0983661971830986,
          0.08575,
          0.2256904761904762,
          0.005,
          0.13452380952380952,
          0.1105,
          0.14132432432432432,
          0.12944444444444445,
          0.10653968253968255,
          0.10971428571428571,
          0.1624805194805195,
          0.10987301587301587,
          0.1150952380952381,
          0.008,
          0.05575,
          0.12427272727272727,
          0.05819047619047619,
          0.10376190476190476,
          0.09246753246753246,
          0.10849350649350649,
          0.07933333333333333,
          1.3799230769230768,
          0.287,
          1.5643125,
          159.78385714285713,
          45.603433333333335,
          852.92925,
          59.243,
          0.754,
          66.93485714285714
         ],
         "x0": " ",
         "xaxis": "x",
         "y0": " ",
         "yaxis": "y"
        }
       ],
       "layout": {
        "boxmode": "group",
        "legend": {
         "tracegroupgap": 0
        },
        "template": {
         "data": {
          "bar": [
           {
            "error_x": {
             "color": "#2a3f5f"
            },
            "error_y": {
             "color": "#2a3f5f"
            },
            "marker": {
             "line": {
              "color": "#E5ECF6",
              "width": 0.5
             },
             "pattern": {
              "fillmode": "overlay",
              "size": 10,
              "solidity": 0.2
             }
            },
            "type": "bar"
           }
          ],
          "barpolar": [
           {
            "marker": {
             "line": {
              "color": "#E5ECF6",
              "width": 0.5
             },
             "pattern": {
              "fillmode": "overlay",
              "size": 10,
              "solidity": 0.2
             }
            },
            "type": "barpolar"
           }
          ],
          "carpet": [
           {
            "aaxis": {
             "endlinecolor": "#2a3f5f",
             "gridcolor": "white",
             "linecolor": "white",
             "minorgridcolor": "white",
             "startlinecolor": "#2a3f5f"
            },
            "baxis": {
             "endlinecolor": "#2a3f5f",
             "gridcolor": "white",
             "linecolor": "white",
             "minorgridcolor": "white",
             "startlinecolor": "#2a3f5f"
            },
            "type": "carpet"
           }
          ],
          "choropleth": [
           {
            "colorbar": {
             "outlinewidth": 0,
             "ticks": ""
            },
            "type": "choropleth"
           }
          ],
          "contour": [
           {
            "colorbar": {
             "outlinewidth": 0,
             "ticks": ""
            },
            "colorscale": [
             [
              0,
              "#0d0887"
             ],
             [
              0.1111111111111111,
              "#46039f"
             ],
             [
              0.2222222222222222,
              "#7201a8"
             ],
             [
              0.3333333333333333,
              "#9c179e"
             ],
             [
              0.4444444444444444,
              "#bd3786"
             ],
             [
              0.5555555555555556,
              "#d8576b"
             ],
             [
              0.6666666666666666,
              "#ed7953"
             ],
             [
              0.7777777777777778,
              "#fb9f3a"
             ],
             [
              0.8888888888888888,
              "#fdca26"
             ],
             [
              1,
              "#f0f921"
             ]
            ],
            "type": "contour"
           }
          ],
          "contourcarpet": [
           {
            "colorbar": {
             "outlinewidth": 0,
             "ticks": ""
            },
            "type": "contourcarpet"
           }
          ],
          "heatmap": [
           {
            "colorbar": {
             "outlinewidth": 0,
             "ticks": ""
            },
            "colorscale": [
             [
              0,
              "#0d0887"
             ],
             [
              0.1111111111111111,
              "#46039f"
             ],
             [
              0.2222222222222222,
              "#7201a8"
             ],
             [
              0.3333333333333333,
              "#9c179e"
             ],
             [
              0.4444444444444444,
              "#bd3786"
             ],
             [
              0.5555555555555556,
              "#d8576b"
             ],
             [
              0.6666666666666666,
              "#ed7953"
             ],
             [
              0.7777777777777778,
              "#fb9f3a"
             ],
             [
              0.8888888888888888,
              "#fdca26"
             ],
             [
              1,
              "#f0f921"
             ]
            ],
            "type": "heatmap"
           }
          ],
          "heatmapgl": [
           {
            "colorbar": {
             "outlinewidth": 0,
             "ticks": ""
            },
            "colorscale": [
             [
              0,
              "#0d0887"
             ],
             [
              0.1111111111111111,
              "#46039f"
             ],
             [
              0.2222222222222222,
              "#7201a8"
             ],
             [
              0.3333333333333333,
              "#9c179e"
             ],
             [
              0.4444444444444444,
              "#bd3786"
             ],
             [
              0.5555555555555556,
              "#d8576b"
             ],
             [
              0.6666666666666666,
              "#ed7953"
             ],
             [
              0.7777777777777778,
              "#fb9f3a"
             ],
             [
              0.8888888888888888,
              "#fdca26"
             ],
             [
              1,
              "#f0f921"
             ]
            ],
            "type": "heatmapgl"
           }
          ],
          "histogram": [
           {
            "marker": {
             "pattern": {
              "fillmode": "overlay",
              "size": 10,
              "solidity": 0.2
             }
            },
            "type": "histogram"
           }
          ],
          "histogram2d": [
           {
            "colorbar": {
             "outlinewidth": 0,
             "ticks": ""
            },
            "colorscale": [
             [
              0,
              "#0d0887"
             ],
             [
              0.1111111111111111,
              "#46039f"
             ],
             [
              0.2222222222222222,
              "#7201a8"
             ],
             [
              0.3333333333333333,
              "#9c179e"
             ],
             [
              0.4444444444444444,
              "#bd3786"
             ],
             [
              0.5555555555555556,
              "#d8576b"
             ],
             [
              0.6666666666666666,
              "#ed7953"
             ],
             [
              0.7777777777777778,
              "#fb9f3a"
             ],
             [
              0.8888888888888888,
              "#fdca26"
             ],
             [
              1,
              "#f0f921"
             ]
            ],
            "type": "histogram2d"
           }
          ],
          "histogram2dcontour": [
           {
            "colorbar": {
             "outlinewidth": 0,
             "ticks": ""
            },
            "colorscale": [
             [
              0,
              "#0d0887"
             ],
             [
              0.1111111111111111,
              "#46039f"
             ],
             [
              0.2222222222222222,
              "#7201a8"
             ],
             [
              0.3333333333333333,
              "#9c179e"
             ],
             [
              0.4444444444444444,
              "#bd3786"
             ],
             [
              0.5555555555555556,
              "#d8576b"
             ],
             [
              0.6666666666666666,
              "#ed7953"
             ],
             [
              0.7777777777777778,
              "#fb9f3a"
             ],
             [
              0.8888888888888888,
              "#fdca26"
             ],
             [
              1,
              "#f0f921"
             ]
            ],
            "type": "histogram2dcontour"
           }
          ],
          "mesh3d": [
           {
            "colorbar": {
             "outlinewidth": 0,
             "ticks": ""
            },
            "type": "mesh3d"
           }
          ],
          "parcoords": [
           {
            "line": {
             "colorbar": {
              "outlinewidth": 0,
              "ticks": ""
             }
            },
            "type": "parcoords"
           }
          ],
          "pie": [
           {
            "automargin": true,
            "type": "pie"
           }
          ],
          "scatter": [
           {
            "fillpattern": {
             "fillmode": "overlay",
             "size": 10,
             "solidity": 0.2
            },
            "type": "scatter"
           }
          ],
          "scatter3d": [
           {
            "line": {
             "colorbar": {
              "outlinewidth": 0,
              "ticks": ""
             }
            },
            "marker": {
             "colorbar": {
              "outlinewidth": 0,
              "ticks": ""
             }
            },
            "type": "scatter3d"
           }
          ],
          "scattercarpet": [
           {
            "marker": {
             "colorbar": {
              "outlinewidth": 0,
              "ticks": ""
             }
            },
            "type": "scattercarpet"
           }
          ],
          "scattergeo": [
           {
            "marker": {
             "colorbar": {
              "outlinewidth": 0,
              "ticks": ""
             }
            },
            "type": "scattergeo"
           }
          ],
          "scattergl": [
           {
            "marker": {
             "colorbar": {
              "outlinewidth": 0,
              "ticks": ""
             }
            },
            "type": "scattergl"
           }
          ],
          "scattermapbox": [
           {
            "marker": {
             "colorbar": {
              "outlinewidth": 0,
              "ticks": ""
             }
            },
            "type": "scattermapbox"
           }
          ],
          "scatterpolar": [
           {
            "marker": {
             "colorbar": {
              "outlinewidth": 0,
              "ticks": ""
             }
            },
            "type": "scatterpolar"
           }
          ],
          "scatterpolargl": [
           {
            "marker": {
             "colorbar": {
              "outlinewidth": 0,
              "ticks": ""
             }
            },
            "type": "scatterpolargl"
           }
          ],
          "scatterternary": [
           {
            "marker": {
             "colorbar": {
              "outlinewidth": 0,
              "ticks": ""
             }
            },
            "type": "scatterternary"
           }
          ],
          "surface": [
           {
            "colorbar": {
             "outlinewidth": 0,
             "ticks": ""
            },
            "colorscale": [
             [
              0,
              "#0d0887"
             ],
             [
              0.1111111111111111,
              "#46039f"
             ],
             [
              0.2222222222222222,
              "#7201a8"
             ],
             [
              0.3333333333333333,
              "#9c179e"
             ],
             [
              0.4444444444444444,
              "#bd3786"
             ],
             [
              0.5555555555555556,
              "#d8576b"
             ],
             [
              0.6666666666666666,
              "#ed7953"
             ],
             [
              0.7777777777777778,
              "#fb9f3a"
             ],
             [
              0.8888888888888888,
              "#fdca26"
             ],
             [
              1,
              "#f0f921"
             ]
            ],
            "type": "surface"
           }
          ],
          "table": [
           {
            "cells": {
             "fill": {
              "color": "#EBF0F8"
             },
             "line": {
              "color": "white"
             }
            },
            "header": {
             "fill": {
              "color": "#C8D4E3"
             },
             "line": {
              "color": "white"
             }
            },
            "type": "table"
           }
          ]
         },
         "layout": {
          "annotationdefaults": {
           "arrowcolor": "#2a3f5f",
           "arrowhead": 0,
           "arrowwidth": 1
          },
          "autotypenumbers": "strict",
          "coloraxis": {
           "colorbar": {
            "outlinewidth": 0,
            "ticks": ""
           }
          },
          "colorscale": {
           "diverging": [
            [
             0,
             "#8e0152"
            ],
            [
             0.1,
             "#c51b7d"
            ],
            [
             0.2,
             "#de77ae"
            ],
            [
             0.3,
             "#f1b6da"
            ],
            [
             0.4,
             "#fde0ef"
            ],
            [
             0.5,
             "#f7f7f7"
            ],
            [
             0.6,
             "#e6f5d0"
            ],
            [
             0.7,
             "#b8e186"
            ],
            [
             0.8,
             "#7fbc41"
            ],
            [
             0.9,
             "#4d9221"
            ],
            [
             1,
             "#276419"
            ]
           ],
           "sequential": [
            [
             0,
             "#0d0887"
            ],
            [
             0.1111111111111111,
             "#46039f"
            ],
            [
             0.2222222222222222,
             "#7201a8"
            ],
            [
             0.3333333333333333,
             "#9c179e"
            ],
            [
             0.4444444444444444,
             "#bd3786"
            ],
            [
             0.5555555555555556,
             "#d8576b"
            ],
            [
             0.6666666666666666,
             "#ed7953"
            ],
            [
             0.7777777777777778,
             "#fb9f3a"
            ],
            [
             0.8888888888888888,
             "#fdca26"
            ],
            [
             1,
             "#f0f921"
            ]
           ],
           "sequentialminus": [
            [
             0,
             "#0d0887"
            ],
            [
             0.1111111111111111,
             "#46039f"
            ],
            [
             0.2222222222222222,
             "#7201a8"
            ],
            [
             0.3333333333333333,
             "#9c179e"
            ],
            [
             0.4444444444444444,
             "#bd3786"
            ],
            [
             0.5555555555555556,
             "#d8576b"
            ],
            [
             0.6666666666666666,
             "#ed7953"
            ],
            [
             0.7777777777777778,
             "#fb9f3a"
            ],
            [
             0.8888888888888888,
             "#fdca26"
            ],
            [
             1,
             "#f0f921"
            ]
           ]
          },
          "colorway": [
           "#636efa",
           "#EF553B",
           "#00cc96",
           "#ab63fa",
           "#FFA15A",
           "#19d3f3",
           "#FF6692",
           "#B6E880",
           "#FF97FF",
           "#FECB52"
          ],
          "font": {
           "color": "#2a3f5f"
          },
          "geo": {
           "bgcolor": "white",
           "lakecolor": "white",
           "landcolor": "#E5ECF6",
           "showlakes": true,
           "showland": true,
           "subunitcolor": "white"
          },
          "hoverlabel": {
           "align": "left"
          },
          "hovermode": "closest",
          "mapbox": {
           "style": "light"
          },
          "paper_bgcolor": "white",
          "plot_bgcolor": "#E5ECF6",
          "polar": {
           "angularaxis": {
            "gridcolor": "white",
            "linecolor": "white",
            "ticks": ""
           },
           "bgcolor": "#E5ECF6",
           "radialaxis": {
            "gridcolor": "white",
            "linecolor": "white",
            "ticks": ""
           }
          },
          "scene": {
           "xaxis": {
            "backgroundcolor": "#E5ECF6",
            "gridcolor": "white",
            "gridwidth": 2,
            "linecolor": "white",
            "showbackground": true,
            "ticks": "",
            "zerolinecolor": "white"
           },
           "yaxis": {
            "backgroundcolor": "#E5ECF6",
            "gridcolor": "white",
            "gridwidth": 2,
            "linecolor": "white",
            "showbackground": true,
            "ticks": "",
            "zerolinecolor": "white"
           },
           "zaxis": {
            "backgroundcolor": "#E5ECF6",
            "gridcolor": "white",
            "gridwidth": 2,
            "linecolor": "white",
            "showbackground": true,
            "ticks": "",
            "zerolinecolor": "white"
           }
          },
          "shapedefaults": {
           "line": {
            "color": "#2a3f5f"
           }
          },
          "ternary": {
           "aaxis": {
            "gridcolor": "white",
            "linecolor": "white",
            "ticks": ""
           },
           "baxis": {
            "gridcolor": "white",
            "linecolor": "white",
            "ticks": ""
           },
           "bgcolor": "#E5ECF6",
           "caxis": {
            "gridcolor": "white",
            "linecolor": "white",
            "ticks": ""
           }
          },
          "title": {
           "x": 0.05
          },
          "xaxis": {
           "automargin": true,
           "gridcolor": "white",
           "linecolor": "white",
           "ticks": "",
           "title": {
            "standoff": 15
           },
           "zerolinecolor": "white",
           "zerolinewidth": 2
          },
          "yaxis": {
           "automargin": true,
           "gridcolor": "white",
           "linecolor": "white",
           "ticks": "",
           "title": {
            "standoff": 15
           },
           "zerolinecolor": "white",
           "zerolinewidth": 2
          }
         }
        },
        "title": {
         "text": "Boxplot of Inter API Access Duration"
        },
        "xaxis": {
         "anchor": "y",
         "domain": [
          0,
          1
         ],
         "title": {
          "text": "x"
         }
        },
        "yaxis": {
         "anchor": "x",
         "domain": [
          0,
          1
         ]
        }
       }
      }
     },
     "metadata": {},
     "output_type": "display_data"
    }
   ],
   "source": [
    "fig = px.box(x=data[\"inter_api_access_duration(sec)\"].to_list(), title=\"Boxplot of Inter API Access Duration\")\n",
    "fig.show()"
   ]
  },
  {
   "cell_type": "code",
   "execution_count": null,
   "metadata": {},
   "outputs": [
    {
     "data": {
      "text/html": [
       "<div><style>\n",
       ".dataframe > thead > tr,\n",
       ".dataframe > tbody > tr {\n",
       "  text-align: right;\n",
       "  white-space: pre-wrap;\n",
       "}\n",
       "</style>\n",
       "<small>shape: (2, 12)</small><table border=\"1\" class=\"dataframe\"><thead><tr><th></th><th>_id</th><th>inter_api_access_duration(sec)</th><th>api_access_uniqueness</th><th>sequence_length(count)</th><th>vsession_duration(min)</th><th>ip_type</th><th>num_sessions</th><th>num_users</th><th>num_unique_apis</th><th>source</th><th>classification</th></tr><tr><td>i64</td><td>str</td><td>f64</td><td>f64</td><td>f64</td><td>i64</td><td>str</td><td>f64</td><td>f64</td><td>f64</td><td>str</td><td>str</td></tr></thead><tbody><tr><td>1693</td><td>&quot;d8ac0f74-473a-…</td><td>159.783857</td><td>0.357143</td><td>14.0</td><td>134219</td><td>&quot;datacenter&quot;</td><td>2.0</td><td>1.0</td><td>5.0</td><td>&quot;F&quot;</td><td>&quot;outlier&quot;</td></tr><tr><td>1695</td><td>&quot;44356d09-52e9-…</td><td>852.92925</td><td>0.5</td><td>2.0</td><td>102352</td><td>&quot;datacenter&quot;</td><td>2.0</td><td>1.0</td><td>1.0</td><td>&quot;F&quot;</td><td>&quot;outlier&quot;</td></tr></tbody></table></div>"
      ],
      "text/plain": [
       "shape: (2, 12)\n",
       "┌──────┬─────────────┬─────────────┬────────────┬───┬───────────┬────────────┬────────┬────────────┐\n",
       "│      ┆ _id         ┆ inter_api_a ┆ api_access ┆ … ┆ num_users ┆ num_unique ┆ source ┆ classifica │\n",
       "│ ---  ┆ ---         ┆ ccess_durat ┆ _uniquenes ┆   ┆ ---       ┆ _apis      ┆ ---    ┆ tion       │\n",
       "│ i64  ┆ str         ┆ ion(sec)    ┆ s          ┆   ┆ f64       ┆ ---        ┆ str    ┆ ---        │\n",
       "│      ┆             ┆ ---         ┆ ---        ┆   ┆           ┆ f64        ┆        ┆ str        │\n",
       "│      ┆             ┆ f64         ┆ f64        ┆   ┆           ┆            ┆        ┆            │\n",
       "╞══════╪═════════════╪═════════════╪════════════╪═══╪═══════════╪════════════╪════════╪════════════╡\n",
       "│ 1693 ┆ d8ac0f74-47 ┆ 159.783857  ┆ 0.357143   ┆ … ┆ 1.0       ┆ 5.0        ┆ F      ┆ outlier    │\n",
       "│      ┆ 3a-32c2-b79 ┆             ┆            ┆   ┆           ┆            ┆        ┆            │\n",
       "│      ┆ f-d00d051d… ┆             ┆            ┆   ┆           ┆            ┆        ┆            │\n",
       "│ 1695 ┆ 44356d09-52 ┆ 852.92925   ┆ 0.5        ┆ … ┆ 1.0       ┆ 1.0        ┆ F      ┆ outlier    │\n",
       "│      ┆ e9-321e-9ec ┆             ┆            ┆   ┆           ┆            ┆        ┆            │\n",
       "│      ┆ 1-630e582b… ┆             ┆            ┆   ┆           ┆            ┆        ┆            │\n",
       "└──────┴─────────────┴─────────────┴────────────┴───┴───────────┴────────────┴────────┴────────────┘"
      ]
     },
     "execution_count": 19,
     "metadata": {},
     "output_type": "execute_result"
    }
   ],
   "source": [
    "data.filter(pl.col(\"inter_api_access_duration(sec)\") > 100 )"
   ]
  },
  {
   "cell_type": "code",
   "execution_count": null,
   "metadata": {},
   "outputs": [
    {
     "data": {
      "application/vnd.plotly.v1+json": {
       "config": {
        "plotlyServerURL": "https://plot.ly"
       },
       "data": [
        {
         "alignmentgroup": "True",
         "hovertemplate": "x=%{x}<extra></extra>",
         "legendgroup": "",
         "marker": {
          "color": "#636efa"
         },
         "name": "",
         "notched": false,
         "offsetgroup": "",
         "orientation": "h",
         "showlegend": false,
         "type": "box",
         "x": [
          85.64324324324325,
          16.166804782763112,
          99.57327586206897,
          69.7927927927928,
          14.952755905511811,
          92.22222222222223,
          100.09836065573771,
          65.7467248908297,
          7.526845637583893,
          79.39202407825432,
          6.539906103286385,
          16.810055865921786,
          20.26431718061674,
          76.89189189189189,
          17.257142857142856,
          8.60717658168083,
          28.146825396825395,
          18.451827242524917,
          8.465608465608465,
          82.71311475409836,
          16.3302752293578,
          17.39622641509434,
          19.432692307692307,
          85.88874430709174,
          70.97619047619048,
          28.50316983650317,
          11.528155339805826,
          6.705479452054795,
          6.848275862068966,
          27.625,
          102.58174904942966,
          41.44635193133047,
          39.464285714285715,
          14.183333333333334,
          46.272,
          78.26421636615811,
          22.756613756613756,
          29.07547169811321,
          2.7685185185185186,
          22.713414634146343,
          102.36670838548186,
          15.929357563347837,
          32.523529411764706,
          83.56575212866603,
          62.885714285714286,
          11.415929203539823,
          6.013392857142857,
          30.117117117117118,
          48.55797101449275,
          18.97163120567376,
          74.77496159754224,
          33.941520467836256,
          75.78211870773855,
          9.236301369863014,
          46.7265625,
          43.40865384615385,
          9.652173913043478,
          22.715686274509803,
          8.637982195845698,
          34.186868686868685,
          27.014492753623188,
          7.556451612903226,
          83.57836257309941,
          9.047872340425531,
          88.41752577319588,
          14.18421052631579,
          18.25101763907734,
          13.6448087431694,
          23.314332247557005,
          19.248665955176094,
          91.9242819843342,
          17.566176470588236,
          7.282051282051282,
          20.670504871567758,
          32.22096774193548,
          81.27800546448087,
          17.130681818181817,
          16.49609375,
          5.574358974358974,
          20.777034559643255,
          16.84986301369863,
          14.190374331550801,
          89.49305555555556,
          12.63859649122807,
          68.14933333333333,
          47.42537313432836,
          6.57213316892725,
          6.037267080745342,
          5.96,
          66.12158054711246,
          52.33009708737864,
          11.861979166666666,
          29.261682242990656,
          20.927350427350426,
          49.941605839416056,
          9.640625,
          82.36445242369838,
          7.756207674943567,
          18.289537712895378,
          13.632241813602015,
          68.54039735099337,
          15.686161597984524,
          22.841726618705035,
          30.16504854368932,
          19.570276497695854,
          51.08898305084746,
          39.45454545454545,
          71.81497797356828,
          93.21571238348868,
          15.377551020408163,
          7.038095238095238,
          10.564285714285715,
          10.170454545454545,
          82.02954545454546,
          7.6448,
          8.411596958174904,
          9.33108108108108,
          39.370370370370374,
          91.71413160733549,
          11.59381443298969,
          17.078846913255234,
          80.14117647058823,
          41.818627450980394,
          44.77372262773723,
          96.18014705882354,
          23.82236842105263,
          8.67537688442211,
          19.71080139372822,
          7.022598870056497,
          84.83756345177665,
          21.090775988286968,
          20.39061371841155,
          99.25416666666666,
          20.43859649122807,
          20.26798418972332,
          17.386266094420602,
          11.968553459119496,
          79.44648829431438,
          39.31693989071038,
          14.862745098039216,
          24.875,
          17.298039215686273,
          16.435,
          45.62096774193548,
          16.40740740740741,
          84.58064516129032,
          2.9931034482758623,
          22.179611650485437,
          12.148829431438127,
          78.36626916524702,
          16.559386973180075,
          6.578725961538462,
          17.452618453865338,
          39.10526315789474,
          8.232330827067669,
          8.835365853658537,
          46.496815286624205,
          74.2909090909091,
          12.963855421686747,
          3.1166666666666667,
          27.59876342336479,
          12.827586206896552,
          18.579470198675498,
          50.6,
          30.120855614973262,
          22.81340782122905,
          16.822787660436838,
          27.849740932642487,
          76.18518518518519,
          45.67768595041322,
          102.41391941391942,
          7.14,
          81.91079812206573,
          14.354545454545455,
          14.47136563876652,
          14.453677172874881,
          43.4367816091954,
          10.440944881889763,
          47.96296296296296,
          34.41971544715447,
          18.105882352941176,
          12.061855670103093,
          13.633507853403142,
          19.927447552447553,
          16.660059331175837,
          14.90621313409359,
          9.517006802721088,
          11.054128440366972,
          15.947998349153941,
          52.32795698924731,
          8.092715231788079,
          9.811680572109655,
          16.13527731850293,
          15.066340961686809,
          12.023668639053254,
          29.688861985472155,
          21.89614935822637,
          36.55813953488372,
          12.960264900662251,
          9.5561797752809,
          93.2892561983471,
          75.44508670520231,
          16.321043288269834,
          20.713395638629283,
          16.706666666666667,
          16.917721518987342,
          17.68585237258348,
          36.123893805309734,
          41.252604166666664,
          9.125,
          52.56692913385827,
          17.374294510005132,
          11.886426592797784,
          76.08695652173913,
          88.03424657534246,
          16.72207684891888,
          13.257309941520468,
          18.13679245283019,
          27.677222222222223,
          21.79835390946502,
          10.181623931623932,
          16.79653851235302,
          79.26605504587155,
          13.489247311827956,
          12.895902547065338,
          9.71915285451197,
          19.942307692307693,
          79.03448275862068,
          103.57232704402516,
          37.67164179104478,
          18.0873786407767,
          18.605504587155963,
          39,
          56,
          9.863915715539948,
          90.43062200956938,
          8.949343339587243,
          16.102344827586208,
          14.350148367952523,
          19.50558659217877,
          14.123287671232877,
          17.47732181425486,
          14.448598130841122,
          77.6931216931217,
          20.81188118811881,
          6.321100917431193,
          42.516129032258064,
          42.50420168067227,
          8.158854166666666,
          15.108355091383812,
          20.26222596964587,
          15.242553191489362,
          23.609756097560975,
          44.285714285714285,
          30.317409766454354,
          40.3,
          7.371681415929204,
          20.166666666666668,
          71.878612716763,
          20.859897172236504,
          82.98611111111111,
          25.704577968526465,
          16.4375,
          40.81218274111675,
          17.447004608294932,
          14.578378378378378,
          9.627287853577371,
          15.680418041804181,
          31.355596784168213,
          31.58479863868406,
          7.302349336057201,
          10.355529131985731,
          7.505376344086022,
          18.705882352941178,
          81.00694444444444,
          9.382022471910112,
          34.54875283446712,
          8.616113744075829,
          29.57371794871795,
          14.827586206896552,
          88.30833333333334,
          19.365,
          10.635568513119534,
          17.101873536299767,
          19.373303167420815,
          87.76635514018692,
          19.176829268292682,
          36.27162977867203,
          13.745164960182025,
          16.007690075449798,
          15.424846070264397,
          16.719576719576718,
          62.74803149606299,
          34.1171875,
          12.435935198821797,
          30.220596061734966,
          9.066914498141264,
          6.462857142857143,
          96.08305647840531,
          20.035714285714285,
          51.695,
          23.09205020920502,
          12.744592346089851,
          97.08571428571429,
          68.64761904761905,
          10.29496402877698,
          25.195121951219512,
          31.28409910993505,
          80.21126760563381,
          7.823529411764706,
          30.76517922457937,
          40.315384615384616,
          50.44642857142857,
          92.37127371273712,
          91.90201729106629,
          6.689473684210526,
          7.095238095238095,
          9.794326241134751,
          21.914110429447852,
          39.9581589958159,
          19.51260504201681,
          29.44166052566937,
          16.63917525773196,
          19.32776349614396,
          9.169267707082833,
          19.5244140625,
          14.877350044762757,
          30.061177152797914,
          20.482935153583618,
          18.40277777777778,
          8.519748653500898,
          45.21556886227545,
          67.81996974281392,
          76.82336182336182,
          23.18139534883721,
          39.56190476190476,
          11.46770601336303,
          18.827433628318584,
          11.867924528301886,
          72.00952380952381,
          10.815350389321468,
          8.82315112540193,
          46.9774011299435,
          29.18857142857143,
          19.76112624886467,
          17.16427432216906,
          71.016,
          9.906832298136646,
          43.20388349514563,
          15.163316582914574,
          14.936802973977695,
          42.39375,
          10.574074074074074,
          97.34,
          30.522670025188916,
          96.78481012658227,
          6.920212765957447,
          5.023529411764706,
          18.426829268292682,
          48.34090909090909,
          63.16,
          23.553129548762737,
          24.840677966101694,
          5.22,
          9.32415254237288,
          31.258333333333333,
          5.26063829787234,
          2.7142857142857144,
          14.36923076923077,
          23.11764705882353,
          25.33195020746888,
          23.170731707317074,
          96.65714285714286,
          32.847682119205295,
          35.758490566037736,
          9.30967741935484,
          6.528138528138528,
          16.313725490196077,
          18.404761904761905,
          20.909972299168974,
          46.36257309941521,
          30.500575109270763,
          17.386321626617374,
          9.723893805309734,
          6.099099099099099,
          24.692307692307693,
          39.388429752066116,
          37.38235294117647,
          12.728323699421965,
          19.021621621621623,
          16.07103825136612,
          5.792592592592593,
          15.778723404255318,
          90.08496732026144,
          6.284313725490196,
          12.440180586907449,
          42.5615141955836,
          14.057692307692308,
          28.735571878279117,
          19.311284046692606,
          6.2366255144032925,
          8.826603325415677,
          9.312154696132596,
          9.396404919583727,
          28.93587994542974,
          81.34375,
          8.902097902097902,
          26.50925925925926,
          43.261744966442954,
          44.855704697986575,
          15.180229885057472,
          15.579844206426484,
          9.500941619585687,
          7.621827411167513,
          14.704202142268608,
          7.973856209150327,
          82.68067226890756,
          9.309941520467836,
          15.764842390253335,
          8.85899513776337,
          18.632530120481928,
          13.281440443213297,
          32.38870909744696,
          24.247252747252748,
          39.39032258064516,
          62.377049180327866,
          11.622596153846153,
          9.554430379746835,
          14.107454667562122,
          11.207272727272727,
          55.08717948717949,
          8.801242236024844,
          28.656269691241334,
          42.955555555555556,
          11.828125,
          17.365296803652967,
          5.914027149321267,
          100.26143790849673,
          17.918340026773762,
          18.04404567699837,
          20.15181932245922,
          5.201438848920863,
          30.70015698587127,
          87.4087591240876,
          16.923266986959504,
          10.04864864864865,
          35.38666666666666,
          26.856027753686035,
          24.238938053097346,
          6.0941704035874436,
          12.208459214501511,
          32.30566037735849,
          8.5423197492163,
          30.201158052755737,
          36.829383886255926,
          49.65806451612903,
          12.291946308724832,
          41.171171171171174,
          5.867088607594937,
          25.253373313343328,
          83.0752688172043,
          24.717171717171716,
          20.93664202745512,
          8.133086876155268,
          13.97597830298334,
          15.948452336909607,
          16.01005025125628,
          18.730363423212193,
          25.818840579710145,
          27.324324324324323,
          7.21026282853567,
          60.214285714285715,
          18.27093596059113,
          21.44699872286079,
          29.552998868351565,
          18.7462482946794,
          10.710455764075068,
          17.592964824120603,
          36.71375464684015,
          5.696296296296296,
          9.303308823529411,
          34.162962962962965,
          11.669491525423728,
          91.77536231884058,
          10.558762886597938,
          38.24075924075924,
          15.926267281105991,
          21.716666666666665,
          6.522801302931596,
          7.662447257383966,
          47.637770897832816,
          47.27272727272727,
          63.13186813186813,
          25.977578475336323,
          13.945686900958467,
          34.833787465940055,
          21.087719298245613,
          6.39622641509434,
          7.833333333333333,
          24.944444444444443,
          35.42156862745098,
          51.505535055350556,
          21.91211604095563,
          85.77333333333333,
          17.96577946768061,
          6.326530612244898,
          51.21568627450981,
          18.266666666666666,
          28.836640680368532,
          11.063025210084033,
          12.201149425287356,
          37.535353535353536,
          34.35606060606061,
          18.59958071278826,
          70.97196261682242,
          40.96875,
          36.31468531468531,
          15.270493306436824,
          35.1798418972332,
          8.278758694489031,
          11.121468926553673,
          2.7535211267605635,
          33.21549636803874,
          30.814757281553398,
          41.67289719626168,
          97.82758620689656,
          20.670682730923694,
          16.691666666666666,
          18.90066225165563,
          53.851485148514854,
          20.284147557328016,
          18.714285714285715,
          7.658715596330275,
          31.43328550932568,
          21.926573426573427,
          39.226027397260275,
          5.642857142857143,
          11.654804270462634,
          22.05464480874317,
          10.953020134228188,
          14.844748858447488,
          36.10625,
          30.04106704106704,
          21.00518134715026,
          8.753191489361702,
          6.186915887850467,
          63.7578125,
          12.98849104859335,
          40.375,
          33.91308325709058,
          9.186046511627907,
          56.54838709677419,
          21.51063829787234,
          15.873327640193567,
          5.483050847457627,
          19.94148936170213,
          29.53887399463807,
          8.518324607329843,
          49.64248704663213,
          31.376261000214637,
          6.359908883826879,
          20.415555555555557,
          36.554245283018865,
          15.570621468926554,
          22.45625,
          9.822471910112359,
          18.721485411140584,
          54.22950819672131,
          71.18320610687023,
          9.009345794392523,
          64.85981308411215,
          14.561946902654867,
          46.657407407407405,
          55,
          23.088669950738915,
          15.571068548387096,
          32.30246020260492,
          3.3015873015873014,
          18.426023084994753,
          39.751479289940825,
          42.68103448275862,
          24.439252336448597,
          6.693069306930693,
          28.871994342291373,
          10.379310344827585,
          10.94375,
          14.581881533101045,
          7.8766519823788546,
          18.433025404157043,
          15.162037037037036,
          11.988304093567251,
          83.84108527131782,
          7.980952380952381,
          82.77380952380952,
          2.7735849056603774,
          22.961111111111112,
          48.34603174603175,
          36.127272727272725,
          58.81679389312977,
          13.789356984478935,
          9.147826086956522,
          7.91970802919708,
          5.739130434782608,
          16.542172683413742,
          15.162162162162161,
          4.901960784313726,
          14.26923076923077,
          18.110807113543093,
          39.056022408963585,
          13.596774193548388,
          7.05568445475638,
          38.65691489361702,
          10.839924670433145,
          21.146551724137932,
          25.62291350531108,
          9.963541666666666,
          18.422185430463575,
          69.46017699115045,
          18.852803738317757,
          50.93584905660377,
          87.22077922077922,
          22.813793103448276,
          6.365714285714286,
          5.801136363636363,
          6.6880733944954125,
          14.147863247863247,
          27.75423728813559,
          14.8061797752809,
          25.994475138121548,
          7.6722222222222225,
          21.426470588235293,
          8.095477386934673,
          19.190812720848058,
          14.668316831683168,
          6.95,
          28.668565510098393,
          30.64957264957265,
          60.3968253968254,
          8.445454545454545,
          18.815261044176708,
          8.213286713286713,
          26.351992834751456,
          12.436944937833037,
          6.2388059701492535,
          19.120917917034422,
          8.98922624877571,
          11.53757225433526,
          38.276679841897234,
          17.485714285714284,
          74.94594594594595,
          17.63527397260274,
          20.135483870967743,
          15.925742574257425,
          17.76463963963964,
          19.744525547445257,
          50.03496503496503,
          14.575723830734967,
          25.327731092436974,
          17.448979591836736,
          45.55855855855856,
          37.032719836400815,
          6.85377358490566,
          15.90011462256427,
          14.637223974763407,
          6.60377358490566,
          6.201058201058201,
          18.276,
          7.6716417910447765,
          32.029393753827314,
          34.44380952380953,
          22.81896551724138,
          15.71532184950136,
          22.720338983050848,
          12,
          12.960905349794238,
          34.88650306748466,
          14.432038834951456,
          20.06132075471698,
          23.405405405405407,
          14.875816993464053,
          38.46557971014493,
          8.35897435897436,
          20.64050901378579,
          67.9568345323741,
          14.210347174948945,
          7.213483146067416,
          12.190871369294605,
          16.805140673845084,
          6.823529411764706,
          15.510948905109489,
          16.18487394957983,
          7.025892857142857,
          5.490566037735849,
          18.485185185185184,
          8.682119205298013,
          48.589371980676326,
          49.62686567164179,
          18.700745473908412,
          8.868571428571428,
          6.9523809523809526,
          24.554112554112553,
          7.2821428571428575,
          16.787096774193547,
          94.74666666666667,
          9.747191011235955,
          14.235166738847987,
          17.221238938053098,
          27.517073170731706,
          12.568627450980392,
          34.18055555555556,
          6.91421568627451,
          14.414965986394558,
          10.380112269446672,
          6.157407407407407,
          13.171875,
          8.294117647058824,
          8.130658436213992,
          2.612403100775194,
          15.435897435897436,
          20.235507246376812,
          21.238095238095237,
          19.636363636363637,
          7.752293577981652,
          9.087628865979381,
          17.370412844036696,
          16.831944444444446,
          46.220640569395016,
          19,
          21.281938325991188,
          26.737089201877936,
          43.92743764172336,
          23.603448275862068,
          53.4640522875817,
          43.02994011976048,
          15.66341030195382,
          18.037735849056602,
          9.527472527472527,
          21.058823529411764,
          44.6271186440678,
          7.686567164179104,
          33.96822033898305,
          14.300546448087431,
          12.369175627240143,
          11.874493927125506,
          15.28061224489796,
          13.926688102893891,
          41.19662921348315,
          10.6403785488959,
          8.08174386920981,
          36.99305555555556,
          10.10344827586207,
          10.174386920980927,
          31.573529411764707,
          47.389380530973455,
          5.28030303030303,
          18.660377358490567,
          37.72115384615385,
          42.947513812154696,
          14.99806426635695,
          43.68813559322034,
          11.35981308411215,
          39.3014705882353,
          44.10625,
          18.3271375464684,
          17.095238095238095,
          7.159052453468697,
          2.7851239669421486,
          17.140845070422536,
          11.002087682672235,
          7.86896551724138,
          6.2988505747126435,
          19.493791786055397,
          17.475694444444443,
          9.38888888888889,
          37.06122448979592,
          32.70184254606365,
          17.61203585147247,
          18.097560975609756,
          10.520547945205479,
          22.616216216216216,
          18.749333333333333,
          94.64516129032258,
          11.537216828478964,
          8.34,
          5.5479452054794525,
          9.112881806108899,
          44.626666666666665,
          45.89150943396226,
          19.192660550458715,
          17.20281124497992,
          16.656050955414013,
          45.57281553398058,
          36.484276729559745,
          7.369325153374233,
          6.164179104477612,
          12.326315789473684,
          48.30662020905923,
          7.300970873786408,
          34.27878787878788,
          55.2,
          17.447963800904976,
          11.046961325966851,
          12.00228832951945,
          50.407407407407405,
          8.625,
          8.970414201183432,
          7.657894736842105,
          5.530386740331492,
          17.581765557163532,
          16.91417910447761,
          13.134680134680135,
          41.978070175438596,
          21.94331983805668,
          8.416839916839917,
          40.30597014925373,
          46.36625514403292,
          16.25,
          20.634340222575517,
          17.886363636363637,
          34.05714285714286,
          19.65137614678899,
          14.923857868020304,
          16.405797101449274,
          16.121495327102803,
          14.28808864265928,
          10.97160883280757,
          7.2297808012093725,
          8.855421686746988,
          19.187906976744188,
          11.705972434915774,
          40.69432314410481,
          21.525906735751295,
          14.482300884955752,
          12.143187066974596,
          24.766283524904214,
          41.041666666666664,
          14.698019801980198,
          26.594827586206897,
          16.218309859154928,
          16.685714285714287,
          16.725,
          2.786259541984733,
          20.456521739130434,
          9.147157190635452,
          2.74468085106383,
          33.671732522796354,
          19.183417085427134,
          6.535135135135135,
          15.36,
          7.599684791174153,
          8.557575757575757,
          16.713839750260146,
          17.707602339181285,
          9.696280991735538,
          28.64765100671141,
          15.198675496688741,
          19.827725437415882,
          18.91506228765572,
          40.27450980392157,
          10.583908045977012,
          11.18867924528302,
          9.143939393939394,
          19.474147414741473,
          12.024271844660195,
          3.1826923076923075,
          15.20675105485232,
          15.26060606060606,
          7.2482993197278915,
          33.027027027027025,
          18.139927623642944,
          41.9873417721519,
          8.518126888217523,
          26.552511415525114,
          17.53503184713376,
          7.636363636363637,
          15.317705299941759,
          47.234146341463415,
          12.724324324324325,
          43.31836734693878,
          9.164179104477611,
          22.632996632996633,
          11.305785123966942,
          13.533333333333333,
          17.02777777777778,
          10.52808112324493,
          6.628205128205129,
          11.766550522648084,
          9.635093167701863,
          11.584615384615384,
          42.0078125,
          7.468513853904282,
          31.928947368421053,
          13.869094488188976,
          37.55392156862745,
          9.133192389006343,
          19.481141692150867,
          15.224880382775119,
          7.246498599439776,
          18.24757281553398,
          11.68840579710145,
          33.68060836501901,
          8.693014705882353,
          15.486301369863014,
          22.428571428571427,
          18.10411622276029,
          14.932432432432432,
          8.176470588235293,
          34.72641509433962,
          12.563106796116505,
          38.28695652173913,
          11.546762589928058,
          19.31954887218045,
          12.0625,
          36.333333333333336,
          8.229299363057326,
          16.398009950248756,
          6.898850574712644,
          21.254263565891474,
          7.369411764705882,
          10.595652173913043,
          19.844827586206897,
          16.260377358490565,
          2.6699029126213594,
          11.89090909090909,
          9.37984496124031,
          17.05536332179931,
          15.534313725490197,
          16.74098360655738,
          17.20812182741117,
          14.45933014354067,
          12.895865237366003,
          14.655021834061136,
          6.636986301369863,
          5.742857142857143,
          7.793708851499634,
          6.989583333333333,
          4.330578512396694,
          2.111111111111111,
          2.2583333333333333,
          9.723577235772357,
          7.321739130434783,
          15.11111111111111,
          12.745222929936306,
          8.025423728813559,
          14.762820512820513,
          6.770491803278689,
          14.562962962962963,
          9.387755102040817,
          22.532846715328468,
          9.866666666666667,
          7.772357723577236,
          10.938775510204081,
          12.756302521008404,
          10.528846153846153,
          13.070063694267516,
          3.4339622641509435,
          10.06140350877193,
          15.980519480519481,
          2.076923076923077,
          12.690265486725664,
          10.116279069767442,
          16.72972972972973,
          12.403225806451612,
          12.962025316455696,
          2.0194174757281553,
          11.192708333333334,
          11.223300970873787,
          10.792,
          16.227941176470587,
          15.512820512820513,
          13.615384615384615,
          25.416666666666668,
          17.707482993197278,
          4.404761904761905,
          11.862745098039216,
          9.96951219512195,
          13.872727272727273,
          14.366013071895425,
          11.123456790123457,
          20.158273381294965,
          15.641891891891891,
          13.609756097560975,
          12.366336633663366,
          9.760330578512397,
          10.635036496350365,
          13.425925925925926,
          10.846153846153847,
          15.493150684931507,
          17.557522123893804,
          10.482456140350877,
          12.061452513966481,
          16.487951807228917,
          60.20261437908497,
          14.57843137254902,
          9.513761467889909,
          2.152542372881356,
          11.91588785046729,
          11.055555555555555,
          13.017391304347827,
          12.133333333333333,
          11.633879781420765,
          10.727777777777778,
          13.14423076923077,
          55.9,
          23.54621848739496,
          11.956989247311828,
          12.921052631578947,
          14.825301204819278,
          11.062015503875969,
          14.137254901960784,
          10.408333333333333,
          15.421487603305785,
          10.280303030303031,
          11.141592920353983,
          10.184397163120567,
          13.404580152671755,
          2.1067961165048543,
          14.668449197860962,
          12.886363636363637,
          11.4140625,
          13.368932038834952,
          12.5,
          10.303703703703704,
          2.171171171171171,
          10.431506849315069,
          2.0194174757281553,
          15.117241379310345,
          42.368852459016395,
          18.5,
          10.580152671755725,
          17.873873873873872,
          17.34,
          8.91588785046729,
          18.242937853107346,
          13.445454545454545,
          2.016260162601626,
          3.4245283018867925,
          3.236842105263158,
          13.132867132867133,
          17.53030303030303,
          9.684782608695652,
          11.668508287292818,
          10.25,
          17.208955223880597,
          16.263513513513512,
          11.646153846153846,
          3.3771929824561404,
          12.912621359223301,
          14.472222222222221,
          10.136752136752136,
          12.91875,
          2.1271186440677967,
          9.557894736842105,
          11.251748251748252,
          10.325757575757576,
          2.0283018867924527,
          12.834782608695653,
          13.165413533834586,
          10.753968253968255,
          9.198347107438016,
          9.185840707964601,
          11.380952380952381,
          2.121495327102804,
          12.696078431372548,
          10.330645161290322,
          14.229357798165138,
          11.607142857142858,
          3.2427184466019416,
          10.330645161290322,
          14.696296296296296,
          12.648854961832061,
          11.25242718446602,
          16.74829931972789,
          12.17741935483871,
          12.439252336448599,
          14.783582089552239,
          8.223300970873787,
          12.196078431372548,
          10.590277777777779,
          10.688888888888888,
          3.289473684210526,
          16.818181818181817,
          13.87012987012987,
          9.694915254237289,
          2.156862745098039,
          11.45138888888889,
          13.841269841269842,
          13.836538461538462,
          18.17699115044248,
          12.02919708029197,
          3.0408163265306123,
          11.698529411764707,
          3.509259259259259,
          15.44700460829493,
          14.61111111111111,
          15.154320987654321,
          15.795580110497237,
          10.835526315789474,
          11.567567567567568,
          13.321739130434782,
          10.453125,
          13.473170731707317,
          14.268115942028986,
          12.450819672131148,
          10.850746268656716,
          14.771428571428572,
          594,
          8,
          18,
          9,
          70,
          50,
          3,
          68,
          114,
          14,
          4,
          13,
          131,
          554,
          554,
          554,
          554,
          446,
          1717,
          2,
          176,
          66,
          677,
          12,
          3,
          334,
          16,
          3,
          10,
          26,
          2,
          128,
          269,
          162,
          2,
          22,
          54,
          2,
          118,
          25,
          4,
          18,
          138,
          14,
          100,
          4,
          2,
          86,
          180,
          12,
          34,
          15,
          2,
          12,
          37,
          21,
          966,
          58,
          375,
          19,
          326,
          18,
          6,
          1632,
          27,
          6,
          421,
          6,
          3,
          78,
          14,
          12,
          71,
          2,
          927,
          3,
          130,
          130,
          130,
          130,
          664,
          52,
          25,
          155,
          2,
          83,
          43,
          43,
          43,
          43,
          2,
          94,
          19,
          9,
          44,
          9,
          13,
          6,
          2,
          58,
          6,
          32,
          11,
          22,
          21,
          1117,
          290,
          5,
          2,
          14,
          229,
          10,
          37,
          2,
          8,
          9,
          50,
          14,
          3,
          31,
          11,
          197,
          8,
          290,
          23,
          10,
          61,
          270,
          37,
          1241,
          12,
          39,
          23,
          239,
          4,
          23,
          7,
          34,
          3303,
          117,
          2,
          42,
          40,
          100,
          19,
          22,
          8,
          4,
          52,
          4,
          101,
          412,
          19,
          12,
          5,
          206,
          52,
          14,
          6,
          10,
          3,
          8,
          52,
          16,
          457,
          13,
          3,
          6,
          575,
          575,
          575,
          575,
          13,
          26,
          98,
          4,
          50,
          3,
          9,
          6,
          2,
          37,
          12,
          744,
          2,
          6,
          756,
          8,
          78,
          35,
          86,
          5,
          27,
          227,
          18,
          62,
          21,
          1212,
          4,
          11,
          84,
          826,
          770,
          10,
          48,
          30,
          19,
          31,
          5,
          135,
          8,
          100,
          524,
          925,
          19,
          10,
          2,
          25,
          79,
          221,
          62,
          2,
          112,
          200,
          2,
          2,
          21,
          13,
          115,
          9,
          29,
          2,
          147,
          8,
          18,
          2,
          34,
          597,
          247,
          2,
          8,
          78,
          242,
          89,
          437,
          2,
          4,
          21,
          20,
          320,
          51,
          210,
          12,
          167,
          50,
          6,
          4,
          88,
          21,
          614,
          6,
          12,
          2,
          17,
          5,
          10,
          2,
          150,
          14,
          89,
          9,
          11,
          8,
          12,
          289,
          205,
          6,
          8,
          34,
          26,
          11,
          2,
          2,
          67,
          7,
          18,
          24,
          23,
          108,
          13,
          75,
          264,
          3,
          11,
          2,
          9,
          141,
          3,
          4,
          412,
          11,
          4,
          7,
          317,
          11,
          1498,
          11,
          75,
          229,
          5,
          24,
          29,
          9,
          56,
          356,
          8,
          46,
          2,
          455,
          82,
          761,
          439,
          20,
          8,
          287,
          272,
          22,
          46,
          11,
          428,
          335,
          14,
          1054,
          12,
          2,
          58,
          3,
          102,
          6,
          43,
          2,
          295,
          9,
          202,
          5,
          2,
          186,
          17,
          23,
          43,
          196,
          2,
          91,
          12,
          493,
          3,
          7,
          423,
          13,
          18,
          1879,
          243,
          116,
          10,
          17,
          8,
          95,
          99,
          13,
          90,
          6,
          66,
          38,
          88,
          13,
          9,
          116,
          11,
          2,
          18,
          4,
          77,
          9,
          248,
          128,
          277,
          6,
          13,
          656,
          3,
          12,
          20,
          52,
          39,
          14,
          5,
          6,
          2,
          11,
          270,
          51,
          172,
          13,
          35,
          2,
          29,
          106,
          106,
          106,
          106,
          2,
          79,
          8,
          123,
          2,
          303,
          15,
          2,
          2078,
          3,
          6,
          10,
          15,
          30,
          29,
          44,
          54,
          8,
          3,
          13,
          11,
          26,
          2,
          15,
          21,
          4,
          27,
          9,
          89,
          14,
          2,
          2,
          17,
          19,
          10,
          37,
          6,
          94,
          17,
          11,
          0,
          63,
          10,
          63,
          87,
          3,
          64,
          53,
          7,
          15,
          6,
          0,
          63,
          18,
          71,
          22,
          7,
          85,
          6,
          24,
          63,
          63,
          12,
          31,
          868,
          63,
          71,
          63,
          63,
          237,
          8,
          5,
          483,
          77,
          3,
          8,
          3,
          32,
          2,
          4,
          2389,
          71,
          6,
          63,
          4,
          63,
          2350,
          6,
          13,
          32,
          5,
          7,
          4,
          3,
          15,
          12,
          63,
          6,
          77,
          71,
          63,
          63,
          63,
          0,
          63,
          63,
          63,
          63,
          3,
          63,
          2106,
          3,
          879,
          63,
          2,
          5,
          21,
          2201,
          4,
          51,
          4,
          63,
          6,
          63,
          3,
          53,
          63,
          63,
          2,
          78,
          874,
          0,
          17,
          73,
          3,
          63,
          5,
          13,
          7,
          63,
          135,
          6,
          2,
          2,
          2,
          2,
          3,
          63,
          16,
          85,
          2308,
          63,
          63,
          71,
          2,
          42,
          3,
          63,
          2,
          74,
          63,
          63,
          63,
          77,
          63,
          63,
          3,
          6,
          77,
          21,
          63,
          77,
          77,
          3,
          13,
          2,
          64,
          14,
          15,
          2,
          5,
          3,
          7
         ],
         "x0": " ",
         "xaxis": "x",
         "y0": " ",
         "yaxis": "y"
        }
       ],
       "layout": {
        "boxmode": "group",
        "legend": {
         "tracegroupgap": 0
        },
        "template": {
         "data": {
          "bar": [
           {
            "error_x": {
             "color": "#2a3f5f"
            },
            "error_y": {
             "color": "#2a3f5f"
            },
            "marker": {
             "line": {
              "color": "#E5ECF6",
              "width": 0.5
             },
             "pattern": {
              "fillmode": "overlay",
              "size": 10,
              "solidity": 0.2
             }
            },
            "type": "bar"
           }
          ],
          "barpolar": [
           {
            "marker": {
             "line": {
              "color": "#E5ECF6",
              "width": 0.5
             },
             "pattern": {
              "fillmode": "overlay",
              "size": 10,
              "solidity": 0.2
             }
            },
            "type": "barpolar"
           }
          ],
          "carpet": [
           {
            "aaxis": {
             "endlinecolor": "#2a3f5f",
             "gridcolor": "white",
             "linecolor": "white",
             "minorgridcolor": "white",
             "startlinecolor": "#2a3f5f"
            },
            "baxis": {
             "endlinecolor": "#2a3f5f",
             "gridcolor": "white",
             "linecolor": "white",
             "minorgridcolor": "white",
             "startlinecolor": "#2a3f5f"
            },
            "type": "carpet"
           }
          ],
          "choropleth": [
           {
            "colorbar": {
             "outlinewidth": 0,
             "ticks": ""
            },
            "type": "choropleth"
           }
          ],
          "contour": [
           {
            "colorbar": {
             "outlinewidth": 0,
             "ticks": ""
            },
            "colorscale": [
             [
              0,
              "#0d0887"
             ],
             [
              0.1111111111111111,
              "#46039f"
             ],
             [
              0.2222222222222222,
              "#7201a8"
             ],
             [
              0.3333333333333333,
              "#9c179e"
             ],
             [
              0.4444444444444444,
              "#bd3786"
             ],
             [
              0.5555555555555556,
              "#d8576b"
             ],
             [
              0.6666666666666666,
              "#ed7953"
             ],
             [
              0.7777777777777778,
              "#fb9f3a"
             ],
             [
              0.8888888888888888,
              "#fdca26"
             ],
             [
              1,
              "#f0f921"
             ]
            ],
            "type": "contour"
           }
          ],
          "contourcarpet": [
           {
            "colorbar": {
             "outlinewidth": 0,
             "ticks": ""
            },
            "type": "contourcarpet"
           }
          ],
          "heatmap": [
           {
            "colorbar": {
             "outlinewidth": 0,
             "ticks": ""
            },
            "colorscale": [
             [
              0,
              "#0d0887"
             ],
             [
              0.1111111111111111,
              "#46039f"
             ],
             [
              0.2222222222222222,
              "#7201a8"
             ],
             [
              0.3333333333333333,
              "#9c179e"
             ],
             [
              0.4444444444444444,
              "#bd3786"
             ],
             [
              0.5555555555555556,
              "#d8576b"
             ],
             [
              0.6666666666666666,
              "#ed7953"
             ],
             [
              0.7777777777777778,
              "#fb9f3a"
             ],
             [
              0.8888888888888888,
              "#fdca26"
             ],
             [
              1,
              "#f0f921"
             ]
            ],
            "type": "heatmap"
           }
          ],
          "heatmapgl": [
           {
            "colorbar": {
             "outlinewidth": 0,
             "ticks": ""
            },
            "colorscale": [
             [
              0,
              "#0d0887"
             ],
             [
              0.1111111111111111,
              "#46039f"
             ],
             [
              0.2222222222222222,
              "#7201a8"
             ],
             [
              0.3333333333333333,
              "#9c179e"
             ],
             [
              0.4444444444444444,
              "#bd3786"
             ],
             [
              0.5555555555555556,
              "#d8576b"
             ],
             [
              0.6666666666666666,
              "#ed7953"
             ],
             [
              0.7777777777777778,
              "#fb9f3a"
             ],
             [
              0.8888888888888888,
              "#fdca26"
             ],
             [
              1,
              "#f0f921"
             ]
            ],
            "type": "heatmapgl"
           }
          ],
          "histogram": [
           {
            "marker": {
             "pattern": {
              "fillmode": "overlay",
              "size": 10,
              "solidity": 0.2
             }
            },
            "type": "histogram"
           }
          ],
          "histogram2d": [
           {
            "colorbar": {
             "outlinewidth": 0,
             "ticks": ""
            },
            "colorscale": [
             [
              0,
              "#0d0887"
             ],
             [
              0.1111111111111111,
              "#46039f"
             ],
             [
              0.2222222222222222,
              "#7201a8"
             ],
             [
              0.3333333333333333,
              "#9c179e"
             ],
             [
              0.4444444444444444,
              "#bd3786"
             ],
             [
              0.5555555555555556,
              "#d8576b"
             ],
             [
              0.6666666666666666,
              "#ed7953"
             ],
             [
              0.7777777777777778,
              "#fb9f3a"
             ],
             [
              0.8888888888888888,
              "#fdca26"
             ],
             [
              1,
              "#f0f921"
             ]
            ],
            "type": "histogram2d"
           }
          ],
          "histogram2dcontour": [
           {
            "colorbar": {
             "outlinewidth": 0,
             "ticks": ""
            },
            "colorscale": [
             [
              0,
              "#0d0887"
             ],
             [
              0.1111111111111111,
              "#46039f"
             ],
             [
              0.2222222222222222,
              "#7201a8"
             ],
             [
              0.3333333333333333,
              "#9c179e"
             ],
             [
              0.4444444444444444,
              "#bd3786"
             ],
             [
              0.5555555555555556,
              "#d8576b"
             ],
             [
              0.6666666666666666,
              "#ed7953"
             ],
             [
              0.7777777777777778,
              "#fb9f3a"
             ],
             [
              0.8888888888888888,
              "#fdca26"
             ],
             [
              1,
              "#f0f921"
             ]
            ],
            "type": "histogram2dcontour"
           }
          ],
          "mesh3d": [
           {
            "colorbar": {
             "outlinewidth": 0,
             "ticks": ""
            },
            "type": "mesh3d"
           }
          ],
          "parcoords": [
           {
            "line": {
             "colorbar": {
              "outlinewidth": 0,
              "ticks": ""
             }
            },
            "type": "parcoords"
           }
          ],
          "pie": [
           {
            "automargin": true,
            "type": "pie"
           }
          ],
          "scatter": [
           {
            "fillpattern": {
             "fillmode": "overlay",
             "size": 10,
             "solidity": 0.2
            },
            "type": "scatter"
           }
          ],
          "scatter3d": [
           {
            "line": {
             "colorbar": {
              "outlinewidth": 0,
              "ticks": ""
             }
            },
            "marker": {
             "colorbar": {
              "outlinewidth": 0,
              "ticks": ""
             }
            },
            "type": "scatter3d"
           }
          ],
          "scattercarpet": [
           {
            "marker": {
             "colorbar": {
              "outlinewidth": 0,
              "ticks": ""
             }
            },
            "type": "scattercarpet"
           }
          ],
          "scattergeo": [
           {
            "marker": {
             "colorbar": {
              "outlinewidth": 0,
              "ticks": ""
             }
            },
            "type": "scattergeo"
           }
          ],
          "scattergl": [
           {
            "marker": {
             "colorbar": {
              "outlinewidth": 0,
              "ticks": ""
             }
            },
            "type": "scattergl"
           }
          ],
          "scattermapbox": [
           {
            "marker": {
             "colorbar": {
              "outlinewidth": 0,
              "ticks": ""
             }
            },
            "type": "scattermapbox"
           }
          ],
          "scatterpolar": [
           {
            "marker": {
             "colorbar": {
              "outlinewidth": 0,
              "ticks": ""
             }
            },
            "type": "scatterpolar"
           }
          ],
          "scatterpolargl": [
           {
            "marker": {
             "colorbar": {
              "outlinewidth": 0,
              "ticks": ""
             }
            },
            "type": "scatterpolargl"
           }
          ],
          "scatterternary": [
           {
            "marker": {
             "colorbar": {
              "outlinewidth": 0,
              "ticks": ""
             }
            },
            "type": "scatterternary"
           }
          ],
          "surface": [
           {
            "colorbar": {
             "outlinewidth": 0,
             "ticks": ""
            },
            "colorscale": [
             [
              0,
              "#0d0887"
             ],
             [
              0.1111111111111111,
              "#46039f"
             ],
             [
              0.2222222222222222,
              "#7201a8"
             ],
             [
              0.3333333333333333,
              "#9c179e"
             ],
             [
              0.4444444444444444,
              "#bd3786"
             ],
             [
              0.5555555555555556,
              "#d8576b"
             ],
             [
              0.6666666666666666,
              "#ed7953"
             ],
             [
              0.7777777777777778,
              "#fb9f3a"
             ],
             [
              0.8888888888888888,
              "#fdca26"
             ],
             [
              1,
              "#f0f921"
             ]
            ],
            "type": "surface"
           }
          ],
          "table": [
           {
            "cells": {
             "fill": {
              "color": "#EBF0F8"
             },
             "line": {
              "color": "white"
             }
            },
            "header": {
             "fill": {
              "color": "#C8D4E3"
             },
             "line": {
              "color": "white"
             }
            },
            "type": "table"
           }
          ]
         },
         "layout": {
          "annotationdefaults": {
           "arrowcolor": "#2a3f5f",
           "arrowhead": 0,
           "arrowwidth": 1
          },
          "autotypenumbers": "strict",
          "coloraxis": {
           "colorbar": {
            "outlinewidth": 0,
            "ticks": ""
           }
          },
          "colorscale": {
           "diverging": [
            [
             0,
             "#8e0152"
            ],
            [
             0.1,
             "#c51b7d"
            ],
            [
             0.2,
             "#de77ae"
            ],
            [
             0.3,
             "#f1b6da"
            ],
            [
             0.4,
             "#fde0ef"
            ],
            [
             0.5,
             "#f7f7f7"
            ],
            [
             0.6,
             "#e6f5d0"
            ],
            [
             0.7,
             "#b8e186"
            ],
            [
             0.8,
             "#7fbc41"
            ],
            [
             0.9,
             "#4d9221"
            ],
            [
             1,
             "#276419"
            ]
           ],
           "sequential": [
            [
             0,
             "#0d0887"
            ],
            [
             0.1111111111111111,
             "#46039f"
            ],
            [
             0.2222222222222222,
             "#7201a8"
            ],
            [
             0.3333333333333333,
             "#9c179e"
            ],
            [
             0.4444444444444444,
             "#bd3786"
            ],
            [
             0.5555555555555556,
             "#d8576b"
            ],
            [
             0.6666666666666666,
             "#ed7953"
            ],
            [
             0.7777777777777778,
             "#fb9f3a"
            ],
            [
             0.8888888888888888,
             "#fdca26"
            ],
            [
             1,
             "#f0f921"
            ]
           ],
           "sequentialminus": [
            [
             0,
             "#0d0887"
            ],
            [
             0.1111111111111111,
             "#46039f"
            ],
            [
             0.2222222222222222,
             "#7201a8"
            ],
            [
             0.3333333333333333,
             "#9c179e"
            ],
            [
             0.4444444444444444,
             "#bd3786"
            ],
            [
             0.5555555555555556,
             "#d8576b"
            ],
            [
             0.6666666666666666,
             "#ed7953"
            ],
            [
             0.7777777777777778,
             "#fb9f3a"
            ],
            [
             0.8888888888888888,
             "#fdca26"
            ],
            [
             1,
             "#f0f921"
            ]
           ]
          },
          "colorway": [
           "#636efa",
           "#EF553B",
           "#00cc96",
           "#ab63fa",
           "#FFA15A",
           "#19d3f3",
           "#FF6692",
           "#B6E880",
           "#FF97FF",
           "#FECB52"
          ],
          "font": {
           "color": "#2a3f5f"
          },
          "geo": {
           "bgcolor": "white",
           "lakecolor": "white",
           "landcolor": "#E5ECF6",
           "showlakes": true,
           "showland": true,
           "subunitcolor": "white"
          },
          "hoverlabel": {
           "align": "left"
          },
          "hovermode": "closest",
          "mapbox": {
           "style": "light"
          },
          "paper_bgcolor": "white",
          "plot_bgcolor": "#E5ECF6",
          "polar": {
           "angularaxis": {
            "gridcolor": "white",
            "linecolor": "white",
            "ticks": ""
           },
           "bgcolor": "#E5ECF6",
           "radialaxis": {
            "gridcolor": "white",
            "linecolor": "white",
            "ticks": ""
           }
          },
          "scene": {
           "xaxis": {
            "backgroundcolor": "#E5ECF6",
            "gridcolor": "white",
            "gridwidth": 2,
            "linecolor": "white",
            "showbackground": true,
            "ticks": "",
            "zerolinecolor": "white"
           },
           "yaxis": {
            "backgroundcolor": "#E5ECF6",
            "gridcolor": "white",
            "gridwidth": 2,
            "linecolor": "white",
            "showbackground": true,
            "ticks": "",
            "zerolinecolor": "white"
           },
           "zaxis": {
            "backgroundcolor": "#E5ECF6",
            "gridcolor": "white",
            "gridwidth": 2,
            "linecolor": "white",
            "showbackground": true,
            "ticks": "",
            "zerolinecolor": "white"
           }
          },
          "shapedefaults": {
           "line": {
            "color": "#2a3f5f"
           }
          },
          "ternary": {
           "aaxis": {
            "gridcolor": "white",
            "linecolor": "white",
            "ticks": ""
           },
           "baxis": {
            "gridcolor": "white",
            "linecolor": "white",
            "ticks": ""
           },
           "bgcolor": "#E5ECF6",
           "caxis": {
            "gridcolor": "white",
            "linecolor": "white",
            "ticks": ""
           }
          },
          "title": {
           "x": 0.05
          },
          "xaxis": {
           "automargin": true,
           "gridcolor": "white",
           "linecolor": "white",
           "ticks": "",
           "title": {
            "standoff": 15
           },
           "zerolinecolor": "white",
           "zerolinewidth": 2
          },
          "yaxis": {
           "automargin": true,
           "gridcolor": "white",
           "linecolor": "white",
           "ticks": "",
           "title": {
            "standoff": 15
           },
           "zerolinecolor": "white",
           "zerolinewidth": 2
          }
         }
        },
        "title": {
         "text": "Boxplot of API Sequence Length"
        },
        "xaxis": {
         "anchor": "y",
         "domain": [
          0,
          1
         ],
         "title": {
          "text": "x"
         }
        },
        "yaxis": {
         "anchor": "x",
         "domain": [
          0,
          1
         ]
        }
       }
      }
     },
     "metadata": {},
     "output_type": "display_data"
    }
   ],
   "source": [
    "fig = px.box(x=data[\"sequence_length(count)\"].to_list(), title=\"Boxplot of API Sequence Length\")\n",
    "fig.show()"
   ]
  },
  {
   "cell_type": "code",
   "execution_count": null,
   "metadata": {},
   "outputs": [
    {
     "data": {
      "text/html": [
       "<div><style>\n",
       ".dataframe > thead > tr,\n",
       ".dataframe > tbody > tr {\n",
       "  text-align: right;\n",
       "  white-space: pre-wrap;\n",
       "}\n",
       "</style>\n",
       "<small>shape: (7, 12)</small><table border=\"1\" class=\"dataframe\"><thead><tr><th></th><th>_id</th><th>inter_api_access_duration(sec)</th><th>api_access_uniqueness</th><th>sequence_length(count)</th><th>vsession_duration(min)</th><th>ip_type</th><th>num_sessions</th><th>num_users</th><th>num_unique_apis</th><th>source</th><th>classification</th></tr><tr><td>i64</td><td>str</td><td>f64</td><td>f64</td><td>f64</td><td>i64</td><td>str</td><td>f64</td><td>f64</td><td>f64</td><td>str</td><td>str</td></tr></thead><tbody><tr><td>1244</td><td>&quot;2db89946-8e5c-…</td><td>0.000315</td><td>0.013624</td><td>3303.0</td><td>63</td><td>&quot;default&quot;</td><td>106.0</td><td>1.0</td><td>45.0</td><td>&quot;E&quot;</td><td>&quot;outlier&quot;</td></tr><tr><td>1524</td><td>&quot;95f59845-64ea-…</td><td>0.001432</td><td>0.019249</td><td>2078.0</td><td>179</td><td>&quot;default&quot;</td><td>87.0</td><td>1.0</td><td>40.0</td><td>&quot;E&quot;</td><td>&quot;outlier&quot;</td></tr><tr><td>1596</td><td>&quot;6267c784-baa1-…</td><td>0.003393</td><td>0.035161</td><td>2389.0</td><td>487</td><td>&quot;datacenter&quot;</td><td>183.0</td><td>1.0</td><td>84.0</td><td>&quot;E&quot;</td><td>&quot;outlier&quot;</td></tr><tr><td>1602</td><td>&quot;0274e020-cf32-…</td><td>0.003323</td><td>0.035745</td><td>2350.0</td><td>469</td><td>&quot;datacenter&quot;</td><td>176.0</td><td>1.0</td><td>84.0</td><td>&quot;E&quot;</td><td>&quot;outlier&quot;</td></tr><tr><td>1626</td><td>&quot;e3af9271-2a84-…</td><td>0.005391</td><td>0.038462</td><td>2106.0</td><td>682</td><td>&quot;datacenter&quot;</td><td>154.0</td><td>1.0</td><td>81.0</td><td>&quot;E&quot;</td><td>&quot;outlier&quot;</td></tr><tr><td>1633</td><td>&quot;83d6afd0-ea25-…</td><td>0.003779</td><td>0.038164</td><td>2201.0</td><td>500</td><td>&quot;datacenter&quot;</td><td>167.0</td><td>1.0</td><td>84.0</td><td>&quot;E&quot;</td><td>&quot;outlier&quot;</td></tr><tr><td>1666</td><td>&quot;d735b3d8-2d08-…</td><td>0.003342</td><td>0.036395</td><td>2308.0</td><td>463</td><td>&quot;datacenter&quot;</td><td>170.0</td><td>1.0</td><td>84.0</td><td>&quot;E&quot;</td><td>&quot;outlier&quot;</td></tr></tbody></table></div>"
      ],
      "text/plain": [
       "shape: (7, 12)\n",
       "┌──────┬─────────────┬─────────────┬────────────┬───┬───────────┬────────────┬────────┬────────────┐\n",
       "│      ┆ _id         ┆ inter_api_a ┆ api_access ┆ … ┆ num_users ┆ num_unique ┆ source ┆ classifica │\n",
       "│ ---  ┆ ---         ┆ ccess_durat ┆ _uniquenes ┆   ┆ ---       ┆ _apis      ┆ ---    ┆ tion       │\n",
       "│ i64  ┆ str         ┆ ion(sec)    ┆ s          ┆   ┆ f64       ┆ ---        ┆ str    ┆ ---        │\n",
       "│      ┆             ┆ ---         ┆ ---        ┆   ┆           ┆ f64        ┆        ┆ str        │\n",
       "│      ┆             ┆ f64         ┆ f64        ┆   ┆           ┆            ┆        ┆            │\n",
       "╞══════╪═════════════╪═════════════╪════════════╪═══╪═══════════╪════════════╪════════╪════════════╡\n",
       "│ 1244 ┆ 2db89946-8e ┆ 0.000315    ┆ 0.013624   ┆ … ┆ 1.0       ┆ 45.0       ┆ E      ┆ outlier    │\n",
       "│      ┆ 5c-3a37-802 ┆             ┆            ┆   ┆           ┆            ┆        ┆            │\n",
       "│      ┆ b-63e0f9d8… ┆             ┆            ┆   ┆           ┆            ┆        ┆            │\n",
       "│ 1524 ┆ 95f59845-64 ┆ 0.001432    ┆ 0.019249   ┆ … ┆ 1.0       ┆ 40.0       ┆ E      ┆ outlier    │\n",
       "│      ┆ ea-3c57-a40 ┆             ┆            ┆   ┆           ┆            ┆        ┆            │\n",
       "│      ┆ a-e222167b… ┆             ┆            ┆   ┆           ┆            ┆        ┆            │\n",
       "│ 1596 ┆ 6267c784-ba ┆ 0.003393    ┆ 0.035161   ┆ … ┆ 1.0       ┆ 84.0       ┆ E      ┆ outlier    │\n",
       "│      ┆ a1-3a82-aeb ┆             ┆            ┆   ┆           ┆            ┆        ┆            │\n",
       "│      ┆ 5-bf74ee70… ┆             ┆            ┆   ┆           ┆            ┆        ┆            │\n",
       "│ 1602 ┆ 0274e020-cf ┆ 0.003323    ┆ 0.035745   ┆ … ┆ 1.0       ┆ 84.0       ┆ E      ┆ outlier    │\n",
       "│      ┆ 32-34dc-9bd ┆             ┆            ┆   ┆           ┆            ┆        ┆            │\n",
       "│      ┆ 9-521dca48… ┆             ┆            ┆   ┆           ┆            ┆        ┆            │\n",
       "│ 1626 ┆ e3af9271-2a ┆ 0.005391    ┆ 0.038462   ┆ … ┆ 1.0       ┆ 81.0       ┆ E      ┆ outlier    │\n",
       "│      ┆ 84-3ca7-80e ┆             ┆            ┆   ┆           ┆            ┆        ┆            │\n",
       "│      ┆ b-f426b97f… ┆             ┆            ┆   ┆           ┆            ┆        ┆            │\n",
       "│ 1633 ┆ 83d6afd0-ea ┆ 0.003779    ┆ 0.038164   ┆ … ┆ 1.0       ┆ 84.0       ┆ E      ┆ outlier    │\n",
       "│      ┆ 25-33e8-8cb ┆             ┆            ┆   ┆           ┆            ┆        ┆            │\n",
       "│      ┆ 3-7ec8ce29… ┆             ┆            ┆   ┆           ┆            ┆        ┆            │\n",
       "│ 1666 ┆ d735b3d8-2d ┆ 0.003342    ┆ 0.036395   ┆ … ┆ 1.0       ┆ 84.0       ┆ E      ┆ outlier    │\n",
       "│      ┆ 08-3d97-94f ┆             ┆            ┆   ┆           ┆            ┆        ┆            │\n",
       "│      ┆ 0-67122016… ┆             ┆            ┆   ┆           ┆            ┆        ┆            │\n",
       "└──────┴─────────────┴─────────────┴────────────┴───┴───────────┴────────────┴────────┴────────────┘"
      ]
     },
     "execution_count": 25,
     "metadata": {},
     "output_type": "execute_result"
    }
   ],
   "source": [
    "data.filter(pl.col(\"sequence_length(count)\") > 2000)"
   ]
  },
  {
   "cell_type": "markdown",
   "metadata": {},
   "source": [
    "**Observation**\n",
    "* Thera are two features in the dataset showing some extreme data points, mostly from datacenter\n",
    "* They are anomalities and classified as \"outlier\", so it seems good data points\n",
    "\n",
    "**Action**\n",
    "* These outlier will not be dropped"
   ]
  },
  {
   "cell_type": "markdown",
   "metadata": {},
   "source": [
    "### Data Pre-processing Pipeline\n",
    "Regarding the process above, there are few step of pre-procesing pipeline taken\n",
    "* Remove ID\n",
    "* Remove rows contain null values\n",
    "* Create a new boolean variable"
   ]
  },
  {
   "cell_type": "code",
   "execution_count": null,
   "metadata": {},
   "outputs": [],
   "source": [
    "def data_cleaning(data: pl.DataFrame, output_path: str):\n",
    "    data = data.drop(\"_id\")\n",
    "    data.filter(pl.col(\"inter_api_access_duration(sec)\").is_not_null()).with_columns(is_anomaly=pl.col(\"classification\") == \"outlier\").write_parquet(output_path)"
   ]
  },
  {
   "cell_type": "code",
   "execution_count": null,
   "metadata": {},
   "outputs": [],
   "source": [
    "data_cleaning(data, \"data\\supervised_dataset_clean.parquet\")"
   ]
  }
 ],
 "metadata": {
  "kernelspec": {
   "display_name": "Python 3",
   "language": "python",
   "name": "python3"
  },
  "language_info": {
   "codemirror_mode": {
    "name": "ipython",
    "version": 3
   },
   "file_extension": ".py",
   "mimetype": "text/x-python",
   "name": "python",
   "nbconvert_exporter": "python",
   "pygments_lexer": "ipython3",
   "version": "3.10.4"
  }
 },
 "nbformat": 4,
 "nbformat_minor": 2
}
